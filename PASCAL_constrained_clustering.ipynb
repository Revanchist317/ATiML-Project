{
 "cells": [
  {
   "cell_type": "markdown",
   "id": "45f95890-93d9-4036-a3c0-5b7bdc5235b5",
   "metadata": {},
   "source": [
    "# Initialisation and package import"
   ]
  },
  {
   "cell_type": "code",
   "execution_count": 1,
   "id": "28e49460-08a3-44ea-963e-2a93605f1b1a",
   "metadata": {},
   "outputs": [],
   "source": [
    "# Data loading and test/train split\n",
    "from bs4 import BeautifulSoup\n",
    "from skimage import io\n",
    "import os\n",
    "import sys\n",
    "from sklearn.model_selection import train_test_split\n",
    "\n",
    "# Plotting\n",
    "import matplotlib.pyplot as plt\n",
    "\n",
    "# VBOW\n",
    "import cv2 as cv\n",
    "from scipy.cluster.vq import kmeans, vq\n",
    "import numpy as np\n",
    "\n",
    "# HOG\n",
    "from skimage.feature import hog\n",
    "from skimage import exposure\n",
    "\n",
    "# MPEG \n",
    "from src.descriptors.descriptor import Descriptor\n",
    "from src.descriptors.dominant_color import DominantColorDescriptor\n",
    "from src.descriptors.color_layout import ColorLayoutDescriptor\n",
    "from src.descriptors.color_structure import ColorStructureDescriptor\n",
    "\n",
    "# Clustering accuracy\n",
    "from scipy.optimize import linear_sum_assignment\n",
    "from sklearn.preprocessing import LabelEncoder\n",
    "import sklearn\n",
    "\n",
    "# For debugging purposes\n",
    "import pdb\n",
    "\n",
    "# Importing the bespoke module for COP-k-Means clustering\n",
    "sys.path.append(\"COP-k-Means_dir/COPkMeans/copkmeans\")\n",
    "from cop_kmeans import cop_kmeans "
   ]
  },
  {
   "cell_type": "markdown",
   "id": "06ae7ca8-0dbb-4b91-9db1-8e8464702455",
   "metadata": {},
   "source": [
    "# Importing the data "
   ]
  },
  {
   "cell_type": "markdown",
   "id": "5e0bef49-a2d9-445d-8a8b-5d1eeb7225bf",
   "metadata": {},
   "source": [
    "Link to the Pascal challenge: \\\n",
    "http://host.robots.ox.ac.uk/pascal/VOC/voc2007/index.html\n",
    "\n",
    "In order to facilliate the clustering effors and avoid trouble with multi-label images which we are not equipped to solve, we shall only use single-label images, discounting all others. "
   ]
  },
  {
   "cell_type": "markdown",
   "id": "1cd31505",
   "metadata": {},
   "source": [
    "##  Load and divide the data into train and test set\n",
    "- We loop through all annotation xml files\n",
    "- We load those files in the `getData()` function using BeautifulSoup\n",
    "- Then we get all the given lables for that image\n",
    "    - Each XML file contains an object tags for each object in the image within which we can find a name tag wich holds the label\n",
    "    - We then search for the name tag, strip the opening and closing tag and are left with the label itself\n",
    "- We do the same to extract the filename of the image and join it with the image path\n",
    "- We load the image itself using skimage\n",
    "    - This loads the file as an ndarray consisting of arrays holding the RGB values for each pixel\n",
    "- In the end we use sklearns `train_test_split()` method to split the data accordingly"
   ]
  },
  {
   "cell_type": "code",
   "execution_count": 2,
   "id": "1fdf187d",
   "metadata": {},
   "outputs": [],
   "source": [
    "# Extra Block for the error AttributeError: 'str' object has no attribute 'removeprefix'.  \n",
    "def removeprefix(self: str, prefix: str, /) -> str:\n",
    "    if self.startswith(prefix):\n",
    "        return self[len(prefix):]\n",
    "    else:\n",
    "        return self[:]\n",
    "\n",
    "def removesuffix(self: str, suffix: str, /) -> str:\n",
    "    # suffix='' should not call self[:-0].\n",
    "    if suffix and self.endswith(suffix):\n",
    "        return self[:-len(suffix)]\n",
    "    else:\n",
    "        return self[:]"
   ]
  },
  {
   "cell_type": "code",
   "execution_count": 3,
   "id": "5f12186c",
   "metadata": {},
   "outputs": [
    {
     "name": "stdout",
     "output_type": "stream",
     "text": [
      "Train test split succeded\n",
      "Train size: 2505\n",
      "Test Size: 2506\n"
     ]
    }
   ],
   "source": [
    "# Classes: person, bird, cat, cow, dog, horse, sheep, aeroplane, bicycle, boat, bus, car, motorbike, \n",
    "# train, bottle, chair, dining table, potted plant, sofa, tv/monitor\n",
    "\n",
    "jpegPath = './Data_train/JPEGImages'\n",
    "annotationPath = \"./Data_train/Annotations\"\n",
    "images = []\n",
    "labels = [] # This will be a list (per image) of lists (per label)\n",
    "x_train = x_test = y_train = y_test = None\n",
    "\n",
    "def getData(path: str) -> None:\n",
    "    \n",
    "    \"\"\"\n",
    "    Takes the path to a annotation xml file and appends the lables and the image to the global list.\n",
    "    \n",
    "        Parameters:\n",
    "            path: str\n",
    "\n",
    "        Returns:\n",
    "            None\n",
    "    \"\"\"\n",
    "    \n",
    "    tempLabels = []\n",
    "    with open(path, 'r') as f:\n",
    "        data = f.read()\n",
    "\n",
    "        # The annotations are stored as XML files, use BS to parse them \n",
    "        bs_data = BeautifulSoup(data, \"xml\")\n",
    "\n",
    "        # GET IMAGE LABELS\n",
    "        foundLables = bs_data.find_all('object') # This tag holds the labels for the image\n",
    "        for label in foundLables:\n",
    "            labelWithTags = str(label.find('name'))\n",
    "            tempLabels.append(removesuffix(removeprefix(labelWithTags,'<name>'),'</name>'))\n",
    "\n",
    "        # GET IMAGES\n",
    "        foundFilenames = bs_data.find('filename') # This holds the filename of the image\n",
    "        imagePath = os.path.join(jpegPath, removesuffix(removeprefix(str(foundFilenames),'<filename>'),'</filename>'))\n",
    "        images.append(io.imread(imagePath)) # Load image from specified path (ndarray of color values)\n",
    "        f.close()\n",
    "    labels.append(tempLabels)          \n",
    "\n",
    "def getTestTrainingData():\n",
    "    \n",
    "    \"\"\"\n",
    "    Goes through the specified annotations directory and splits the found data 50/50 into a training and test set.\n",
    "    \n",
    "        Parameters: None\n",
    "\n",
    "        Returns: None\n",
    "    \"\"\"\n",
    "    \n",
    "    for annoXML in os.listdir(annotationPath):\n",
    "        path = os.path.join(annotationPath, annoXML)\n",
    "        getData(path)\n",
    "    \n",
    "    global x_train, x_test, y_train, y_test\n",
    "    x_train, x_test, y_train, y_test = train_test_split(images, labels, test_size=0.5)\n",
    "\n",
    "    # The x_train/x_test contain the images encoded in RGB whereas the y_train/y_test contain the associated list of labels \n",
    "\n",
    "getTestTrainingData()\n",
    "print(\"Train test split succeded\\nTrain size: \"+ str(len(x_train))+\"\\nTest Size: \"+str(len(x_test)))"
   ]
  },
  {
   "cell_type": "code",
   "execution_count": 4,
   "id": "8ef0dd58",
   "metadata": {},
   "outputs": [
    {
     "name": "stdout",
     "output_type": "stream",
     "text": [
      "[['person', 'dog'], ['dog'], ['tvmonitor'], ['dog'], ['sheep'], ['person', 'motorbike'], ['cat'], ['sofa', 'person'], ['bicycle', 'person'], ['person']]\n",
      "[['bird'], ['motorbike', 'person'], ['person', 'bottle'], ['dog'], ['bird'], ['person', 'sofa'], ['dog', 'person', 'sofa'], ['person'], ['dog'], ['tvmonitor', 'pottedplant', 'dog']]\n",
      "[2. 1. 1. 1. 1. 2. 1. 2. 2. 1.]\n"
     ]
    }
   ],
   "source": [
    "# For removing the repetitive labels in the list and getting the amount of labels for each image \n",
    "# in case we need images with more labels later.  \n",
    "\n",
    "def clean_label(label_list):\n",
    "    cleaned_label_list = []\n",
    "    size_array = np.zeros(len(label_list))\n",
    "    for index in range(len(label_list)):\n",
    "        if len(label_list[index]) > 1:\n",
    "            res = [i for n,i in enumerate(label_list[index]) if i not in label_list[index][:n]]\n",
    "            size_array[index] = len(res)\n",
    "            cleaned_label_list.append(res)\n",
    "        else:\n",
    "            cleaned_label_list.append(label_list[index])\n",
    "            size_array[index] = 1\n",
    "    return cleaned_label_list, size_array\n",
    "\n",
    "y_train_cleaned,train_size_array = clean_label(y_train)\n",
    "y_test_cleaned,test_size_array = clean_label(y_test)\n",
    "print(y_train_cleaned[:10])\n",
    "print(y_test_cleaned[:10])\n",
    "print(train_size_array[:10])"
   ]
  },
  {
   "cell_type": "code",
   "execution_count": 5,
   "id": "2b511e08",
   "metadata": {},
   "outputs": [
    {
     "name": "stdout",
     "output_type": "stream",
     "text": [
      "1404\n",
      "1404\n",
      "[['dog'], ['tvmonitor'], ['dog'], ['sheep'], ['cat']]\n",
      "[['bird'], ['dog'], ['bird'], ['person'], ['dog']]\n"
     ]
    }
   ],
   "source": [
    "# For choosing the images with only one label\n",
    "\n",
    "def one_label(size_array):\n",
    "    #return the index of image with only one label\n",
    "    label_index = []\n",
    "    for index, size in enumerate(size_array):\n",
    "        if size == 1:\n",
    "            label_index.append(index)\n",
    "    return label_index\n",
    "train_label_index = one_label(train_size_array)\n",
    "test_label_index = one_label(test_size_array)\n",
    "print(len(train_label_index))\n",
    "print(len(test_label_index))\n",
    "\n",
    "x_train_one = [x_train[i] for i in train_label_index]\n",
    "y_train_one = [y_train_cleaned[i] for i in train_label_index]\n",
    "x_test_one = [x_test[i] for i in test_label_index]\n",
    "y_test_one = [y_test_cleaned[i] for i in test_label_index]\n",
    "print(y_train_one[:5])\n",
    "print(y_test_one[:5])"
   ]
  },
  {
   "cell_type": "code",
   "execution_count": 6,
   "id": "a4c15f6a-3c42-4932-93de-7d9f26e547ba",
   "metadata": {},
   "outputs": [
    {
     "data": {
      "image/png": "[encoded data removed]",
      "text/plain": [
       "<Figure size 432x288 with 1 Axes>"
      ]
     },
     "metadata": {
      "needs_background": "light"
     },
     "output_type": "display_data"
    }
   ],
   "source": [
    "# Make sure we have enough pictures for each distinct label \n",
    "unique_labels, counts = np.unique(y_train_one, return_counts=True)\n",
    "\n",
    "# Sorting the counts and labels in ascending order\n",
    "sorted_indices = np.argsort(counts)[::-1]\n",
    "unique_labels = unique_labels[sorted_indices]\n",
    "counts = counts[sorted_indices]\n",
    "\n",
    "# Plotting the bar chart\n",
    "plt.bar(unique_labels, counts)\n",
    "\n",
    "# Increasing the spacing between the ticks\n",
    "plt.xticks(ticks=np.arange(len(unique_labels)), labels=unique_labels, rotation=45, ha='right')\n",
    "\n",
    "# Prevent clipping of tick labels\n",
    "plt.tight_layout()\n",
    "\n",
    "plt.show()"
   ]
  },
  {
   "cell_type": "markdown",
   "id": "53b6a7b4-997f-4c3e-b711-f6e7672fdcb6",
   "metadata": {},
   "source": [
    "# Feature selection / vectorising the data"
   ]
  },
  {
   "cell_type": "markdown",
   "id": "b00a344f-4379-4e9f-abea-3f2240569285",
   "metadata": {},
   "source": [
    "Feature extraction methods used in this project: \n",
    "\n",
    "1. Histogram of Oriented Gradients (HOG)  \\\n",
    " https://en.wikipedia.org/wiki/Histogram_of_oriented_gradients\n",
    "2. Visual Bag-of-Words (VBOW) \\\n",
    "https://en.wikipedia.org/wiki/Bag-of-words_model_in_computer_vision\n",
    "3. MPEG-7 Color Layout Descriptor \\\n",
    " https://en.wikipedia.org/wiki/Color_layout_descriptor\n"
   ]
  },
  {
   "cell_type": "markdown",
   "id": "a8dd411d-4fde-47d4-8b80-03f7f7805556",
   "metadata": {},
   "source": [
    "This is very important, one of the tasks being \"Extract meaningful hand-crafted features \\[...] using appropriate libraries or implement them from scratch. Reference to some hand-crafted features are provided. Identify and extract at least one extra feature of your choice other than the three features mentioned in the task. Why did you select this these feature(s) out of other options?\n",
    "\""
   ]
  },
  {
   "cell_type": "markdown",
   "id": "533679f0-80de-4091-993d-b48b0f4e9e72",
   "metadata": {},
   "source": [
    "## Feature extraction - function definition"
   ]
  },
  {
   "cell_type": "markdown",
   "id": "00f40e3f-65d7-4646-bd36-de7ee2fea17e",
   "metadata": {},
   "source": [
    "### HOG"
   ]
  },
  {
   "cell_type": "markdown",
   "id": "ee107de7-e156-4fad-9c56-8202c8eb185f",
   "metadata": {},
   "source": [
    "Histogram of Oriented Gradients, aka HOG, is the one extra feature extraction method not mentioned in the task assignment. "
   ]
  },
  {
   "cell_type": "code",
   "execution_count": 7,
   "id": "c7a19c48-ca8b-49ab-aada-a23df52735bb",
   "metadata": {},
   "outputs": [
    {
     "data": {
      "image/png": "[encoded data removed]",
      "text/plain": [
       "<Figure size 576x288 with 2 Axes>"
      ]
     },
     "metadata": {
      "needs_background": "light"
     },
     "output_type": "display_data"
    }
   ],
   "source": [
    "# The following dummy code is for visualisation purposes only for an easy understanding of what HOG performs \n",
    "\n",
    "# Load a sample image\n",
    "image = cv.imread(\"./Data_train/JPEGImages/000005.jpg\")\n",
    "\n",
    "fd, hog_image = hog(\n",
    "    image,\n",
    "    orientations=8,\n",
    "    pixels_per_cell=(12, 12),\n",
    "    cells_per_block=(1, 1),\n",
    "    visualize=True,\n",
    "    channel_axis=-1,\n",
    ")\n",
    "\n",
    "fig, (ax1, ax2) = plt.subplots(1, 2, figsize=(8, 4), sharex=True, sharey=True)\n",
    "\n",
    "ax1.axis('off')\n",
    "ax1.imshow(image, cmap=plt.cm.gray)\n",
    "ax1.set_title('Input image')\n",
    "\n",
    "# Rescale histogram for better display\n",
    "hog_image_rescaled = exposure.rescale_intensity(hog_image, in_range=(0, 10))\n",
    "\n",
    "ax2.axis('off')\n",
    "ax2.imshow(hog_image_rescaled, cmap=plt.cm.gray)\n",
    "ax2.set_title('Histogram of Oriented Gradients')\n",
    "plt.show()"
   ]
  },
  {
   "cell_type": "code",
   "execution_count": 8,
   "id": "c6d7e7d2-558c-4f0e-859a-7dd3dd6a591a",
   "metadata": {},
   "outputs": [],
   "source": [
    "def HOG_extractor(data: list, block_norm: str = 'L2') -> np.ndarray:\n",
    "\n",
    "    \"\"\"\n",
    "    A wrapper for extracting features using the Histogram of Oriented Gradients method.\n",
    "    All images are resised to the same dimensions and blurred with a Gaussian filter. \n",
    "    Optionally specify different normalisation, the default is L2. \n",
    "    \"\"\"\n",
    "\n",
    "    # Initialise an empty list of features\n",
    "    hog_features = []\n",
    "\n",
    "    # Iterate over the images \n",
    "    for img in data:\n",
    "\n",
    "        # Resize the images\n",
    "        image = cv.resize(img, (150, 200), interpolation = cv.INTER_LINEAR)\n",
    "\n",
    "        # Apply Gaussian filter\n",
    "        blur = cv.GaussianBlur(image, (5, 5), 0)\n",
    "\n",
    "        # Extract the features using HOG\n",
    "        fd = hog(\n",
    "        image,\n",
    "        orientations=8,\n",
    "        pixels_per_cell=(12, 12),\n",
    "        cells_per_block=(1, 1),\n",
    "        channel_axis=-1, # Specify the colour channel as the last column\n",
    "        block_norm = block_norm) \n",
    "\n",
    "        hog_features.append(fd)\n",
    "        \n",
    "    return np.array(hog_features)"
   ]
  },
  {
   "cell_type": "markdown",
   "id": "6e648feb",
   "metadata": {},
   "source": [
    "### Visual Bag of Words"
   ]
  },
  {
   "cell_type": "markdown",
   "id": "3f7cecf3",
   "metadata": {},
   "source": [
    "BoVW is a method used for building image emeddings.\n",
    "\n",
    "1. Extract visual features -> SIFT\n",
    "    - consist of keypoints: points that do not change if image is rotated, expanded or scaled\n",
    "    - And descriptors: vector representations of an image patch found at a given keypoint\n",
    "2. Create codebook with all existing visual words -> k-means\n",
    "3. Build sparse frequency vectors with these visual words"
   ]
  },
  {
   "cell_type": "code",
   "execution_count": 9,
   "id": "d9876988",
   "metadata": {},
   "outputs": [],
   "source": [
    "# hyperparam iterations = 1?\n",
    "# param data: list of images on which to apply bovw\n",
    "# param n_words: how large should the codebook be?\n",
    "# param n_samples: how many samples to build the codebook?\n",
    "def bovw(data, n_words, n_samples, iterations=1):\n",
    "    # extractor SIFT to get the visual features\n",
    "    extractor = cv.SIFT_create()\n",
    "\n",
    "    # lists to store all keypoints and descriptors\n",
    "    keypoints = []\n",
    "    descriptors = []\n",
    "\n",
    "    for img in data:\n",
    "        img_keypoints, img_descriptors = extractor.detectAndCompute(img, None)\n",
    "        keypoints.append(img_keypoints)\n",
    "        descriptors.append(img_descriptors)\n",
    "\n",
    "    print(\"keypoints and descriptors extracted\")\n",
    "\n",
    "    # get sample of descriptors\n",
    "    # select n_samples random image index values\n",
    "    sample_idx = np.random.randint(0, len(data), n_samples).tolist()\n",
    "\n",
    "    # extract the sample from descriptors\n",
    "    # (we don't need keypoints)\n",
    "    descriptors_sample = []\n",
    "\n",
    "    for n in sample_idx:\n",
    "        descriptors_sample.append(np.array(descriptors[n]))\n",
    "\n",
    "    all_descriptors = []\n",
    "    # convert all discriptors into a single array (some images may have more than others)\n",
    "    for img_descriptors in descriptors_sample:\n",
    "        # extract specific descriptors within the image\n",
    "        for descriptor in img_descriptors:\n",
    "            all_descriptors.append(descriptor)\n",
    "    \n",
    "    # convert to single numpy array (contains all feature vectors)\n",
    "    all_descriptors = np.stack(all_descriptors)\n",
    "\n",
    "    print(\"All feature vectors gathered. Now: building codebook\")\n",
    "\n",
    "    # perform k-means clustering to build the codebook\n",
    "    k = n_words\n",
    "    codebook, variance = kmeans(all_descriptors, k_or_guess=n_words, iter=iterations)\n",
    "\n",
    "    print(\"codebook finished\")\n",
    "\n",
    "    # vector quantization\n",
    "    visual_words = []\n",
    "    for img_descriptors in descriptors:\n",
    "        # for each image map each descriptor to the nearest codebook entry\n",
    "        img_visual_words, distance = vq(img_descriptors, codebook)\n",
    "        visual_words.append(img_visual_words)\n",
    "\n",
    "    print(\"vectors quantization done, now: creating sparse frequency vectors\")\n",
    "    # creating sparse frequency_vectors \n",
    "    frequency_vectors = []\n",
    "    for img_visual_words in visual_words:\n",
    "        # create frequency vector for each image\n",
    "        img_frequency_vector = np.zeros(k)\n",
    "        for word in img_visual_words:\n",
    "            img_frequency_vector[word] += 1\n",
    "        frequency_vectors.append(img_frequency_vector)       \n",
    "    # stack together in numpy array\n",
    "    frequency_vectors = np.stack(frequency_vectors)\n",
    "\n",
    "    print(\"finished bovw\")\n",
    "\n",
    "    # Tf-idf\n",
    "    #N = len(data)\n",
    "    #df = np.sum(frequency_vectors > 0, axis=0)\n",
    "    #idf = np.log(N/df)\n",
    "\n",
    "    #tfidf = frequency_vectors *idf\n",
    "\n",
    "    return frequency_vectors\n",
    "\n"
   ]
  },
  {
   "cell_type": "markdown",
   "id": "872d2430",
   "metadata": {},
   "source": [
    "### MPEG-7"
   ]
  },
  {
   "cell_type": "markdown",
   "id": "f3f65e0e",
   "metadata": {},
   "source": [
    "MPEG-7 is a multimedia content description standard.The following descriptor methods can be used. \n",
    "- Color Layout Descriptor (CLD): Captures the spatial distribution of colors in an image. It divides the image into a grid and computes color moments for each grid cell.The feature extraction process consists of two parts: grid based representative color selection and discrete cosine transform with quantization.[It is a reference feature in the task document.]\n",
    "\n",
    "- Dominant Color Descriptor (DCD): Captures the dominant colors in an image. It quantizes the color space and computes the frequency of each color cluster.\n",
    "\n",
    "- Color Structure Descriptor (CSD): Describes the spatial arrangement of color structures in an image. It analyzes the distribution of color pairs in predefined directions."
   ]
  },
  {
   "cell_type": "code",
   "execution_count": 10,
   "id": "da784891",
   "metadata": {},
   "outputs": [],
   "source": [
    "\"\"\"\n",
    "The toolkit originally comes from https://github.com/lucas-gtr/MPEG7_Descriptors with \n",
    "adaption for the project. It includes three functions: training, evaluation and querying\n",
    "the descriptors. \n",
    "\"\"\"\n",
    "\n",
    "#def train(train_image_list: list, descriptor_used: Descriptor, output_file: str):\n",
    "def train(train_image_list: list, descriptor_used: Descriptor):\n",
    "    \"\"\"\n",
    "    Uses selected descriptor on a set of images and saves the results to a file.\n",
    "\n",
    "    Args:\n",
    "        train_image_list(list): A list containing training images.\n",
    "        descriptor_used (str): Descriptor to use.\n",
    "        output_file (str): Path to the output file.\n",
    "    \"\"\"\n",
    "    n_images = len(train_image_list)\n",
    "    #print(f\"training {n_images} images\")\n",
    "    descriptor_list = []\n",
    "    \n",
    "    for idx, img in enumerate(train_image_list):\n",
    "        descriptor = descriptor_used.get_descriptor(img)\n",
    "        descriptor_list.append(descriptor)\n",
    "    return descriptor_list"
   ]
  },
  {
   "cell_type": "code",
   "execution_count": 11,
   "id": "b7650efe",
   "metadata": {},
   "outputs": [],
   "source": [
    "\"\"\"\n",
    "1. Three modes to be chosen:\n",
    "Train: train(train_image_list: list, descriptor_used: Descriptor, output_file: str)\n",
    "Evaluate: evaluate(test_image_list: list,y_true: list, descriptor_used: Descriptor, descriptor_database: str)\n",
    "Query: query(query_img_list: list, descriptor_used: Descriptor, descriptor_database: str)\n",
    "\n",
    "2. x_image_list is the list containing image, \n",
    "   output_file and descriptor_database are paths, \n",
    "   descriptor_used can be chosen from: \n",
    "     1) DCD: DominantColorDescriptor(Td, alpha),\n",
    "     2) CLD: ColorLayoutDescriptor(y_coeff_number, c_coeff_number, w_y, w_cr, w_cb),\n",
    "     3) CSD: ColorStructureDescriptor(n_quantization) \n",
    "    Variables are temporaily fixed belows. \n",
    "\"\"\"\n",
    "\n",
    "# Variables for Dominant Color Descriptor\n",
    "Td = 20  # For distance calculation (usually between 10 and 20)\n",
    "alpha = 1.5  # For distance calculation (usually between 1.0 and 1.5)\n",
    "\n",
    "# Variables for Color Layout Descriptor\n",
    "y_coeff_number = 6  # For descriptor size\n",
    "c_coeff_number = 3  # For descriptor size (usually there are more Y coeff number than Cr, Cb)\n",
    "# Weights for distance calculation\n",
    "w_y = 1\n",
    "w_cr = 1\n",
    "w_cb = 1\n",
    "\n",
    "# Variables for Color Structure Descriptor\n",
    "n_quantization = 64  # For descriptor size\n",
    "assert n_quantization in {32, 64, 128, 256}, \"The value of n_quantization must be 32, 64, 128, or 256.\""
   ]
  },
  {
   "cell_type": "markdown",
   "id": "29281ea2-841b-41f9-b530-e451cd151b1a",
   "metadata": {},
   "source": [
    "## Feature extraction - execution"
   ]
  },
  {
   "cell_type": "markdown",
   "id": "78e4f074-5735-4497-9ccd-36aed7e9db9d",
   "metadata": {},
   "source": [
    "### MPEG "
   ]
  },
  {
   "cell_type": "code",
   "execution_count": 42,
   "id": "e6a6683f-4df9-4f57-b784-64edd7604fcc",
   "metadata": {},
   "outputs": [
    {
     "name": "stdout",
     "output_type": "stream",
     "text": [
      "[[ 821   10  -57    4  -17  -40  942   -3    9 1099    5   -7]\n",
      " [1198    8 -298  123   15   57 1056  -64    5  994   56   -7]\n",
      " [1101   87  343 -188  -22   16  986   12   36  997   -4  -44]\n",
      " [1152 -157  572 -114  -80   80 1000    1   11 1030   -1    4]\n",
      " [ 394  133   16  -83   44  -13 1000   27   -1 1071  -18   -6]\n",
      " [ 822  205   -8  -54   62 -138  967    8    3 1120   -1   -4]\n",
      " [1128  149  564  104   -9   43 1026    1  -14 1021   -1    5]\n",
      " [ 543  -73  -16  -99   52  -68  971   11    6 1107   -7  -10]\n",
      " [ 239    9   95  -16   24  -80 1015  -18   -3 1044   14    0]\n",
      " [ 898  -64  289   61   -4    4 1002    2    2 1019    7  -18]]\n",
      "(1404, 12)\n"
     ]
    }
   ],
   "source": [
    "# CLD Color Layout Descriptor\n",
    "descriptor_used = ColorLayoutDescriptor(y_coeff_number, c_coeff_number, w_y, w_cr, w_cb)  # Change here if changing descriptors of MPEG \n",
    "CLD_descriptor = train(x_train_one, descriptor_used)\n",
    "CLD_descriptor_array = np.array([list(map(int, s.split())) for s in CLD_descriptor])\n",
    "print(CLD_descriptor_array[:10])\n",
    "print(CLD_descriptor_array.shape)"
   ]
  },
  {
   "cell_type": "code",
   "execution_count": 25,
   "id": "b8eb3cb8",
   "metadata": {},
   "outputs": [
    {
     "name": "stdout",
     "output_type": "stream",
     "text": [
      "[[ 76  51  50  40   0   0   0   0   5   3   0   0 160 175   0   0   7   4\n",
      "    0   0   0   0   0   0   0   0   0   0  94 113   0   0   0   0   0   0\n",
      "    0   0   0   0   0   0   0   0  28   0 151   0   0   0   0   0   0   0\n",
      "    0   0   0   0   0   7   0   0   0   0]\n",
      " [140 168   2 121   0   0   0   0 202 218   0   0 216 176   0   0 118 151\n",
      "    0   0   0   0   0   0 153 127   0   0 229 134   0   0  46  39   0   0\n",
      "    0   0   0   0 138   0   1   0   6   0  23   0   8   0   0   0   0   0\n",
      "    0   0 111   0   4   1   0   0   0   0]]\n",
      "(1404, 64)\n"
     ]
    }
   ],
   "source": [
    "# CSD Color Structure Descriptor, more sparse\n",
    "descriptor_used = ColorStructureDescriptor(n_quantization)\n",
    "CSD_descriptor = train(x_train_one, descriptor_used)\n",
    "CSD_descriptor_array = np.array([list(map(int, s.split())) for s in CSD_descriptor])\n",
    "print(CSD_descriptor_array[:2])\n",
    "print(CSD_descriptor_array.shape)"
   ]
  },
  {
   "cell_type": "code",
   "execution_count": 23,
   "id": "e6a27a33",
   "metadata": {},
   "outputs": [
    {
     "name": "stderr",
     "output_type": "stream",
     "text": [
      "D:\\anaconda3\\lib\\site-packages\\sklearn\\preprocessing\\_label.py:114: DataConversionWarning: A column-vector y was passed when a 1d array was expected. Please change the shape of y to (n_samples, ), for example using ravel().\n",
      "  y = column_or_1d(y, warn=True)\n"
     ]
    }
   ],
   "source": [
    "# for the cluster acc we need int labels instead of string -> label encoding\n",
    "\n",
    "# create an instance of label encoder\n",
    "lab = LabelEncoder()\n",
    "\n",
    "# perform label encoding\n",
    "y_train_one_int = lab.fit_transform(y_train_one)"
   ]
  },
  {
   "cell_type": "markdown",
   "id": "b7309ebf-860d-403a-b227-57155845a400",
   "metadata": {},
   "source": [
    "### VBOW"
   ]
  },
  {
   "cell_type": "code",
   "execution_count": 27,
   "id": "17bc4b7e-5907-4ca5-a49b-cc353f0e4887",
   "metadata": {},
   "outputs": [
    {
     "name": "stdout",
     "output_type": "stream",
     "text": [
      "keypoints and descriptors extracted\n",
      "All feature vectors gathered. Now: building codebook\n",
      "codebook finished\n",
      "vectors quantization done, now: creating sparse frequency vectors\n",
      "finished bovw\n"
     ]
    }
   ],
   "source": [
    "tfidf = bovw(x_train_one, 50, 250)"
   ]
  },
  {
   "cell_type": "code",
   "execution_count": 41,
   "id": "4bcdf9b1",
   "metadata": {},
   "outputs": [
    {
     "name": "stdout",
     "output_type": "stream",
     "text": [
      "[[23. 65. 40. 54. 14. 27. 47. 54. 20. 15. 35. 20. 33. 65. 47. 29. 26. 43.\n",
      "  45. 63. 26. 20. 46. 15. 38. 34. 25. 38. 36. 93. 21. 35. 15. 65. 15. 21.\n",
      "  72. 21. 60. 29. 13. 59. 18. 22. 19. 20. 16. 22. 26. 45.]\n",
      " [ 6.  3. 14. 26.  5. 15.  6. 35.  5.  4.  4. 18.  5.  9. 16. 13. 14. 15.\n",
      "   7. 13.  9.  5.  6.  5.  9.  5.  6. 15. 23. 41.  0.  4. 17. 10.  8. 10.\n",
      "   8.  1.  2.  8.  4. 26.  5.  3.  6.  2. 10. 17.  4. 10.]\n",
      " [13.  0. 11.  0. 16.  2.  1.  2.  4.  3. 10.  7.  5.  8.  6.  3. 11.  8.\n",
      "   6.  3.  8. 13.  6. 13. 10. 18. 19.  1.  4.  0.  2.  3. 10.  2. 11. 10.\n",
      "   6.  0.  6. 15. 16.  5.  7. 10.  1.  6.  8. 18.  5. 13.]\n",
      " [21.  4. 21. 25.  4. 17. 20. 22. 11.  5. 26.  9. 11. 42. 19. 30.  8. 17.\n",
      "  14. 27. 20.  2. 31. 11. 10. 10. 17.  8. 22. 20.  3. 29. 14. 40. 15.  7.\n",
      "  44. 25. 35.  9.  7. 60. 17. 13. 16. 22.  2. 20.  7. 12.]\n",
      " [24. 14. 30.  8. 38. 20.  5. 11. 29. 31.  9.  7. 26. 13. 12. 14. 16. 30.\n",
      "  17. 23. 18. 18. 11. 25.  5. 15. 14. 24. 22.  7.  1. 34. 22. 22. 26. 29.\n",
      "  20. 11.  9. 25. 22. 19. 33. 13. 20. 16. 53. 42. 15.  6.]]\n",
      "(1404, 50)\n"
     ]
    }
   ],
   "source": [
    "print(tfidf[:5])\n",
    "print(tfidf.shape)"
   ]
  },
  {
   "cell_type": "markdown",
   "id": "a813cdc6-daaf-4aed-82ef-bd425aea5646",
   "metadata": {},
   "source": [
    "### HOG"
   ]
  },
  {
   "cell_type": "code",
   "execution_count": 37,
   "id": "bf33b7ca-d5ed-4c9e-93da-bb7e5c615dab",
   "metadata": {},
   "outputs": [],
   "source": [
    "hogfd = HOG_extractor(x_train_one)"
   ]
  },
  {
   "cell_type": "code",
   "execution_count": 40,
   "id": "90ca7e26",
   "metadata": {},
   "outputs": [
    {
     "name": "stdout",
     "output_type": "stream",
     "text": [
      "[[0.27518045 0.28162835 0.25145319 ... 0.65147469 0.70791316 0.10122539]\n",
      " [0.70468736 0.16694749 0.20700714 ... 0.1922913  0.09619952 0.09542014]\n",
      " [0.49749537 0.28486958 0.15254076 ... 0.18906528 0.15743336 0.19419163]\n",
      " [0.62959174 0.25099719 0.25069053 ... 0.31233397 0.48274863 0.31224183]\n",
      " [0.32612754 0.90876942 0.2431239  ... 0.62373864 0.11884361 0.12845786]]\n",
      "(1404, 1536)\n"
     ]
    }
   ],
   "source": [
    "print(hogfd[:5])\n",
    "print(hogfd.shape)"
   ]
  },
  {
   "cell_type": "markdown",
   "id": "97c5e570-1fa0-46d1-92a6-2542c5507f7e",
   "metadata": {},
   "source": [
    "# Clutering and gridsearch cross-validation"
   ]
  },
  {
   "cell_type": "markdown",
   "id": "2870cb88-8775-4fd9-b5a6-7b89935b3405",
   "metadata": {},
   "source": [
    "We are using the COP-k-Means for clustering with a fixed k of 20 and two types of constraints, must-link and cannot link. We will firstly perform the clustering with no constraints and then introduce simulated domain knowledge. The performance of the clustering will be evaluated with accuracy (an extrinsic method) since we have the ground truth. \n",
    "\n",
    "The paper that describes the algorithm is here:\\\n",
    "https://web.cse.msu.edu/~cse802/notes/ConstrainedKmeans.pdf "
   ]
  },
  {
   "cell_type": "code",
   "execution_count": 66,
   "id": "813351d6",
   "metadata": {},
   "outputs": [
    {
     "data": {
      "text/plain": [
       "[1, 2, 0, 2, 1, 1, 2, 3, 1, 4]"
      ]
     },
     "execution_count": 66,
     "metadata": {},
     "output_type": "execute_result"
    }
   ],
   "source": [
    "# A try run of cop_kmeans\n",
    "input_matrix = np.random.rand(100, 1)\n",
    "must_link = [(0, 10), (0, 20), (0, 30)]\n",
    "cannot_link = [(1, 10), (2, 10), (3, 10)]\n",
    "clusters, centres = cop_kmeans(dataset=input_matrix, k=5, ml=must_link,cl=cannot_link)\n",
    "clusters[:10]"
   ]
  },
  {
   "cell_type": "code",
   "execution_count": 28,
   "id": "bc0cb97b-e9dc-424c-9f5f-edaf611514a5",
   "metadata": {},
   "outputs": [],
   "source": [
    "clusters_VBOW, centres_VBOW = cop_kmeans(tfidf, k=20)"
   ]
  },
  {
   "cell_type": "code",
   "execution_count": 29,
   "id": "110b0bbc-ae30-4e58-aabc-cf0392d59e99",
   "metadata": {},
   "outputs": [
    {
     "data": {
      "text/plain": [
       "0.8008084020200913"
      ]
     },
     "execution_count": 29,
     "metadata": {},
     "output_type": "execute_result"
    }
   ],
   "source": [
    "# Obtain the clustering accuracy using \n",
    "sklearn.metrics.rand_score(y_train_one_int, np.array(clusters_VBOW))"
   ]
  },
  {
   "cell_type": "code",
   "execution_count": 24,
   "id": "d46dbca0-862a-46c2-af12-0f18c725057e",
   "metadata": {},
   "outputs": [
    {
     "data": {
      "text/plain": [
       "0.8755058858408823"
      ]
     },
     "execution_count": 24,
     "metadata": {},
     "output_type": "execute_result"
    }
   ],
   "source": [
    "clusters_CLD, centres_CLD = cop_kmeans(CLD_descriptor_array, k=20)\n",
    "sklearn.metrics.rand_score(y_train_one_int, np.array(clusters_CLD))"
   ]
  },
  {
   "cell_type": "code",
   "execution_count": 26,
   "id": "9a225559",
   "metadata": {},
   "outputs": [
    {
     "data": {
      "text/plain": [
       "0.8780909041065847"
      ]
     },
     "execution_count": 26,
     "metadata": {},
     "output_type": "execute_result"
    }
   ],
   "source": [
    "clusters_CSD, centres_CSD = cop_kmeans(CSD_descriptor_array, k=20)\n",
    "sklearn.metrics.rand_score(y_train_one_int, np.array(clusters_CSD))"
   ]
  },
  {
   "cell_type": "markdown",
   "id": "febb316e",
   "metadata": {},
   "source": [
    "# Evaluation of the quality of clusters"
   ]
  },
  {
   "cell_type": "markdown",
   "id": "79f43c88",
   "metadata": {},
   "source": [
    "## A. Instrinsic measures-when the ground truth is not available\n",
    "- 1. Davies-Bouldin Index. It assesses the average similarity ratio of each cluster with its most similar cluster and evaluates the compactness and separation of clusters. The lower the better.  \n",
    "- 2. Silhouette Coefficient. It estimates the average distance between clusters and measures how similar an object is to its own cluster compared to other clusters. The higher the better. \n",
    "- 3. Calinski-Harabasz Index. It evaluates cluster validity based on the ratio of the sum of between-cluster dispersion and within-cluster dispersion. The higher the better. "
   ]
  },
  {
   "cell_type": "code",
   "execution_count": 44,
   "id": "dc4e773d",
   "metadata": {},
   "outputs": [
    {
     "name": "stdout",
     "output_type": "stream",
     "text": [
      "Davies-Bouldin Index of CLD is: 1.7175528909203148\n",
      "Davies-Bouldin Index of CSD is: 2.4218830282873776\n",
      "Davies-Bouldin Index of bovw is: 1.7269728022011734\n",
      "Silhouette Coefficient of CLD is: 0.12082150247360124\n",
      "Silhouette Coefficient of CSD is: 0.07015500211250267\n",
      "Silhouette Coefficient of bovw is: 0.0959650886116778\n",
      "Calinski-Harabasz Index of CLD is: 152.9593511171602\n",
      "Calinski-Harabasz Index of CSD is: 53.744948977542386\n",
      "Calinski-Harabasz Index of bovw is: 150.9499218932412\n"
     ]
    }
   ],
   "source": [
    "# 1. Davies-Bouldin Index\n",
    "from sklearn.metrics import davies_bouldin_score\n",
    "db_CLD = davies_bouldin_score(CLD_descriptor_array,clusters_CLD) \n",
    "print(\"Davies-Bouldin Index of CLD is:\", db_CLD)\n",
    "\n",
    "db_CSD = davies_bouldin_score(CSD_descriptor_array,clusters_CSD) \n",
    "print(\"Davies-Bouldin Index of CSD is:\", db_CSD)\n",
    "\n",
    "db_VBOW = davies_bouldin_score(tfidf,clusters_VBOW)\n",
    "print(\"Davies-Bouldin Index of bovw is:\", db_VBOW)\n",
    "\n",
    "# db_hog = davies_bouldin_score(hogfd,clusters_hog) \n",
    "# print(\"Davies-Bouldin Index of hog is:\", db_hog)\n",
    "\n",
    "# 2. Silhouette Coefficient\n",
    "from sklearn.metrics import silhouette_score\n",
    "sil_CLD = silhouette_score(CLD_descriptor_array,clusters_CLD) \n",
    "print(\"Silhouette Coefficient of CLD is:\", sil_CLD)\n",
    "\n",
    "sil_CSD = silhouette_score(CSD_descriptor_array,clusters_CSD) \n",
    "print(\"Silhouette Coefficient of CSD is:\", sil_CSD)\n",
    "\n",
    "sil_VBOW = silhouette_score(tfidf,clusters_VBOW)\n",
    "print(\"Silhouette Coefficient of bovw is:\", sil_VBOW)\n",
    "\n",
    "# sil_hog = silhouette_score(hogfd,clusters_hog)\n",
    "# print(\"Silhouette Coefficient of hog is:\", sil_hog)\n",
    "\n",
    "#  3. Calinski-Harabasz Index\n",
    "from sklearn.metrics import calinski_harabasz_score\n",
    "ch_CLD = calinski_harabasz_score(CLD_descriptor_array,clusters_CLD) \n",
    "print(\"Calinski-Harabasz Index of CLD is:\", ch_CLD)\n",
    "\n",
    "ch_CSD = calinski_harabasz_score(CSD_descriptor_array,clusters_CSD) \n",
    "print(\"Calinski-Harabasz Index of CSD is:\", ch_CSD)\n",
    "\n",
    "ch_VBOW = calinski_harabasz_score(tfidf,clusters_VBOW)\n",
    "print(\"Calinski-Harabasz Index of bovw is:\", ch_VBOW)\n",
    "\n",
    "# ch_hog = calinski_harabasz_score(hogfd,clusters_hog)\n",
    "# print(\"Calinski-Harabasz Index of hog is:\", ch_hog)"
   ]
  },
  {
   "cell_type": "markdown",
   "id": "8f7df90f-5d14-4cb7-8905-2f936faac2f3",
   "metadata": {},
   "source": [
    "accuracy measures"
   ]
  },
  {
   "cell_type": "code",
   "execution_count": 31,
   "id": "f195e9a4",
   "metadata": {},
   "outputs": [],
   "source": [
    "# taken from https://github.com/k-han/DTC/blob/master/utils/util.py and modified, because it only worked for two classes\n",
    "def cluster_acc(y_true, y_pred):\n",
    "    \"\"\"\n",
    "    Calculate clustering accuracy. Require scikit-learn installed\n",
    "\n",
    "    # Arguments\n",
    "        y: true labels, numpy.array with shape `(n_samples,)`\n",
    "        y_pred: predicted labels, numpy.array with shape `(n_samples,)`\n",
    "\n",
    "    # Return\n",
    "        accuracy, in [0,1]\n",
    "    \"\"\"\n",
    "    y_true = y_true.astype(np.int64)\n",
    "    assert y_pred.size == y_true.size\n",
    "    D = max(y_pred.max(), y_true.max()) + 1\n",
    "    w = np.zeros((D, D), dtype=np.int64)\n",
    "    for i in range(y_pred.size):\n",
    "        w[y_pred[i], y_true[i]] += 1\n",
    "    cost_matrix = w.max()-w\n",
    "    row_ind, col_ind = linear_sum_assignment(cost_matrix)\n",
    "    #print(f\"row_ind: {row_ind}\")\n",
    "    #print(f\"col_ind: {col_ind}\")\n",
    "    #print(cost_matrix)\n",
    "    sum = 0 \n",
    "    for i in range(row_ind.size):\n",
    "        sum += w[row_ind[i], col_ind[i]]\n",
    "\n",
    "\n",
    "    return sum / y_pred.size\n",
    "    \n"
   ]
  },
  {
   "cell_type": "code",
   "execution_count": 35,
   "id": "59d29320",
   "metadata": {},
   "outputs": [
    {
     "data": {
      "text/plain": [
       "0.18803418803418803"
      ]
     },
     "execution_count": 35,
     "metadata": {},
     "output_type": "execute_result"
    }
   ],
   "source": [
    "# get the cluster acc for our example clustering example with tfidf\n",
    "cluster_acc(y_train_one_int, np.array(clusters_VBOW))"
   ]
  },
  {
   "cell_type": "code",
   "execution_count": 36,
   "id": "81bca527",
   "metadata": {},
   "outputs": [
    {
     "data": {
      "text/plain": [
       "0.1452991452991453"
      ]
     },
     "execution_count": 36,
     "metadata": {},
     "output_type": "execute_result"
    }
   ],
   "source": [
    "cluster_acc(y_train_one_int, np.array(clusters_CLD))"
   ]
  },
  {
   "cell_type": "code",
   "execution_count": 45,
   "id": "d24d9e00",
   "metadata": {},
   "outputs": [
    {
     "data": {
      "text/plain": [
       "0.14458689458689458"
      ]
     },
     "execution_count": 45,
     "metadata": {},
     "output_type": "execute_result"
    }
   ],
   "source": [
    "cluster_acc(y_train_one_int, np.array(clusters_CSD))"
   ]
  },
  {
   "cell_type": "code",
   "execution_count": 112,
   "id": "bbdc0d53-dd52-48ca-89ba-980733477a55",
   "metadata": {},
   "outputs": [
    {
     "data": {
      "text/plain": [
       "0.8087434128265745"
      ]
     },
     "execution_count": 112,
     "metadata": {},
     "output_type": "execute_result"
    }
   ],
   "source": [
    "sklearn.metrics.rand_score(y_train_one_int, np.array(clusters_VBOW))"
   ]
  }
 ],
 "metadata": {
  "kernelspec": {
   "display_name": "Python 3",
   "language": "python",
   "name": "python3"
  },
  "language_info": {
   "codemirror_mode": {
    "name": "ipython",
    "version": 3
   },
   "file_extension": ".py",
   "mimetype": "text/x-python",
   "name": "python",
   "nbconvert_exporter": "python",
   "pygments_lexer": "ipython3",
   "version": "3.8.8"
  }
 },
 "nbformat": 4,
 "nbformat_minor": 5
}
