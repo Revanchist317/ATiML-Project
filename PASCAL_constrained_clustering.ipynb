{
 "cells": [
  {
   "cell_type": "markdown",
   "id": "45f95890-93d9-4036-a3c0-5b7bdc5235b5",
   "metadata": {
    "jp-MarkdownHeadingCollapsed": true
   },
   "source": [
    "# Initialisation and package import"
   ]
  },
  {
   "cell_type": "code",
   "execution_count": 1,
   "id": "28e49460-08a3-44ea-963e-2a93605f1b1a",
   "metadata": {},
   "outputs": [],
   "source": [
    "# Importing modules\n",
    "\n",
    "# Data loading and test/train split\n",
    "from bs4 import BeautifulSoup\n",
    "from skimage import io\n",
    "import os\n",
    "import sys\n",
    "from sklearn.model_selection import train_test_split\n",
    "\n",
    "# Plotting\n",
    "import matplotlib.pyplot as plt\n",
    "\n",
    "# VBOW\n",
    "import cv2 as cv\n",
    "from scipy.cluster.vq import kmeans, vq\n",
    "import numpy as np\n",
    "\n",
    "# HOG\n",
    "from skimage.feature import hog\n",
    "from skimage import exposure\n",
    "\n",
    "# MPEG \n",
    "import cv2 as cv\n",
    "from src.descriptors.descriptor import Descriptor\n",
    "from src.descriptors.dominant_color import DominantColorDescriptor\n",
    "from src.descriptors.color_layout import ColorLayoutDescriptor\n",
    "from src.descriptors.color_structure import ColorStructureDescriptor\n",
    "\n",
    "# Clustering accuracy\n",
    "from scipy.optimize import linear_sum_assignment\n",
    "from sklearn.preprocessing import LabelEncoder\n",
    "\n",
    "# For debugging purposes\n",
    "import pdb"
   ]
  },
  {
   "cell_type": "code",
   "execution_count": 2,
   "id": "17cbe04f-27e9-4e32-90d0-429e53b4573c",
   "metadata": {},
   "outputs": [],
   "source": [
    "# Importing the bespoke module for COP-k-Means clustering\n",
    "\n",
    "sys.path.append(\"COP-k-Means_dir/COPkMeans/copkmeans\")\n",
    "from cop_kmeans import cop_kmeans "
   ]
  },
  {
   "cell_type": "markdown",
   "id": "06ae7ca8-0dbb-4b91-9db1-8e8464702455",
   "metadata": {
    "jp-MarkdownHeadingCollapsed": true
   },
   "source": [
    "# Importing the data "
   ]
  },
  {
   "cell_type": "markdown",
   "id": "5e0bef49-a2d9-445d-8a8b-5d1eeb7225bf",
   "metadata": {},
   "source": [
    "Link to the Pascal challenge: \\\n",
    "http://host.robots.ox.ac.uk/pascal/VOC/voc2007/index.html\n",
    "\n",
    "In order to facilliate the clustering effors and avoid trouble with multi-label images which we are not equipped to solve, we shall only use single-label images, discounting all others. "
   ]
  },
  {
   "cell_type": "markdown",
   "id": "1cd31505",
   "metadata": {},
   "source": [
    "##  Load and divide the data into train and test set\n",
    "- We loop through all annotation xml files\n",
    "- We load those files in the `getData()` function using BeautifulSoup\n",
    "- Then we get all the given lables for that image\n",
    "    - Each XML file contains an object tags for each object in the image within which we can find a name tag wich holds the label\n",
    "    - We then search for the name tag, strip the opening and closing tag and are left with the label itself\n",
    "- We do the same to extract the filename of the image and join it with the image path\n",
    "- We load the image itself using skimage\n",
    "    - This loads the file as an ndarray consisting of arrays holding the RGB values for each pixel\n",
    "- In the end we use sklearns `train_test_split()` method to split the data accordingly"
   ]
  },
  {
   "cell_type": "code",
   "execution_count": 5,
   "id": "1fdf187d",
   "metadata": {},
   "outputs": [],
   "source": [
    "# Extra Block for the error AttributeError: 'str' object has no attribute 'removeprefix'.  \n",
    "def removeprefix(self: str, prefix: str, /) -> str:\n",
    "    if self.startswith(prefix):\n",
    "        return self[len(prefix):]\n",
    "    else:\n",
    "        return self[:]\n",
    "\n",
    "def removesuffix(self: str, suffix: str, /) -> str:\n",
    "    # suffix='' should not call self[:-0].\n",
    "    if suffix and self.endswith(suffix):\n",
    "        return self[:-len(suffix)]\n",
    "    else:\n",
    "        return self[:]"
   ]
  },
  {
   "cell_type": "code",
   "execution_count": 8,
   "id": "5f12186c",
   "metadata": {},
   "outputs": [
    {
     "name": "stdout",
     "output_type": "stream",
     "text": [
      "Train test split succeded\n",
      "Train size: 2505\n",
      "Test Size: 2506\n"
     ]
    }
   ],
   "source": [
    "# Classes: person, bird, cat, cow, dog, horse, sheep, aeroplane, bicycle, boat, bus, car, motorbike, \n",
    "# train, bottle, chair, dining table, potted plant, sofa, tv/monitor\n",
    "\n",
    "jpegPath = './Data_train/JPEGImages'\n",
    "annotationPath = \"./Data_train/Annotations\"\n",
    "images = []\n",
    "labels = [] # This will be a list (per image) of lists (per label)\n",
    "x_train = x_test = y_train = y_test = None\n",
    "\n",
    "def getData(path: str) -> None:\n",
    "    \n",
    "    \"\"\"\n",
    "    Takes the path to a annotation xml file and appends the lables and the image to the global list.\n",
    "    \n",
    "        Parameters:\n",
    "            path: str\n",
    "\n",
    "        Returns:\n",
    "            None\n",
    "    \"\"\"\n",
    "    \n",
    "    tempLabels = []\n",
    "    with open(path, 'r') as f:\n",
    "        data = f.read()\n",
    "\n",
    "        # The annotations are stored as XML files, use BS to parse them \n",
    "        bs_data = BeautifulSoup(data, \"xml\")\n",
    "\n",
    "        # GET IMAGE LABELS\n",
    "        foundLables = bs_data.find_all('object') # This tag holds the labels for the image\n",
    "        for label in foundLables:\n",
    "            labelWithTags = str(label.find('name'))\n",
    "            tempLabels.append(removesuffix(removeprefix(labelWithTags,'<name>'),'</name>'))\n",
    "\n",
    "        # GET IMAGES\n",
    "        foundFilenames = bs_data.find('filename') # This holds the filename of the image\n",
    "        imagePath = os.path.join(jpegPath, removesuffix(removeprefix(str(foundFilenames),'<filename>'),'</filename>'))\n",
    "        images.append(io.imread(imagePath)) # Load image from specified path (ndarray of color values)\n",
    "        f.close()\n",
    "    labels.append(tempLabels)          \n",
    "\n",
    "def getTestTrainingData():\n",
    "    \n",
    "    \"\"\"\n",
    "    Goes through the specified annotations directory and splits the found data 50/50 into a training and test set.\n",
    "    \n",
    "        Parameters: None\n",
    "\n",
    "        Returns: None\n",
    "    \"\"\"\n",
    "    \n",
    "    for annoXML in os.listdir(annotationPath):\n",
    "        path = os.path.join(annotationPath, annoXML)\n",
    "        getData(path)\n",
    "    \n",
    "    global x_train, x_test, y_train, y_test\n",
    "    x_train, x_test, y_train, y_test = train_test_split(images, labels, test_size=0.5)\n",
    "\n",
    "    # The x_train/x_test contain the images encoded in RGB whereas the y_train/y_test contain the associated list of labels \n",
    "\n",
    "getTestTrainingData()\n",
    "print(\"Train test split succeded\\nTrain size: \"+ str(len(x_train))+\"\\nTest Size: \"+str(len(x_test)))"
   ]
  },
  {
   "cell_type": "code",
   "execution_count": 19,
   "id": "8ef0dd58",
   "metadata": {},
   "outputs": [
    {
     "name": "stdout",
     "output_type": "stream",
     "text": [
      "[['bottle', 'person'], ['sofa', 'bicycle'], ['bicycle', 'person'], ['cow', 'bird'], ['sheep'], ['sofa', 'chair'], ['dog', 'person'], ['horse', 'person'], ['person'], ['dog']]\n",
      "[['train', 'person'], ['sheep'], ['bird'], ['horse', 'person'], ['bus'], ['bicycle'], ['chair', 'diningtable'], ['person'], ['car', 'person'], ['cat']]\n",
      "[2. 2. 2. 2. 1. 2. 2. 2. 1. 1.]\n"
     ]
    }
   ],
   "source": [
    "# For removing the repetitive labels in the list and getting the amount of labels for each image \n",
    "# in case we need images with more labels later.  \n",
    "\n",
    "def clean_label(label_list):\n",
    "    cleaned_label_list = []\n",
    "    size_array = np.zeros(len(label_list))\n",
    "    for index in range(len(label_list)):\n",
    "        if len(label_list[index]) > 1:\n",
    "            res = [i for n,i in enumerate(label_list[index]) if i not in label_list[index][:n]]\n",
    "            size_array[index] = len(res)\n",
    "            cleaned_label_list.append(res)\n",
    "        else:\n",
    "            cleaned_label_list.append(label_list[index])\n",
    "            size_array[index] = 1\n",
    "    return cleaned_label_list, size_array\n",
    "\n",
    "y_train_cleaned,train_size_array = clean_label(y_train)\n",
    "y_test_cleaned,test_size_array = clean_label(y_test)\n",
    "print(y_train_cleaned[:10])\n",
    "print(y_test_cleaned[:10])\n",
    "print(train_size_array[:10])"
   ]
  },
  {
   "cell_type": "code",
   "execution_count": 20,
   "id": "2b511e08",
   "metadata": {},
   "outputs": [
    {
     "name": "stdout",
     "output_type": "stream",
     "text": [
      "1373\n",
      "1435\n",
      "[['sheep'], ['person'], ['dog'], ['bicycle'], ['diningtable']]\n",
      "[['sheep'], ['bird'], ['bus'], ['bicycle'], ['person']]\n"
     ]
    }
   ],
   "source": [
    "# For choosing the images with only one label\n",
    "\n",
    "def one_label(size_array):\n",
    "    #return the index of image with only one label\n",
    "    label_index = []\n",
    "    for index, size in enumerate(size_array):\n",
    "        if size == 1:\n",
    "            label_index.append(index)\n",
    "    return label_index\n",
    "train_label_index = one_label(train_size_array)\n",
    "test_label_index = one_label(test_size_array)\n",
    "print(len(train_label_index))\n",
    "print(len(test_label_index))\n",
    "\n",
    "x_train_one = [x_train[i] for i in train_label_index]\n",
    "y_train_one = [y_train_cleaned[i] for i in train_label_index]\n",
    "x_test_one = [x_test[i] for i in test_label_index]\n",
    "y_test_one = [y_test_cleaned[i] for i in test_label_index]\n",
    "print(y_train_one[:5])\n",
    "print(y_test_one[:5])"
   ]
  },
  {
   "cell_type": "code",
   "execution_count": 42,
   "id": "a4c15f6a-3c42-4932-93de-7d9f26e547ba",
   "metadata": {},
   "outputs": [
    {
     "data": {
      "image/png": "[encoded data removed]",
      "text/plain": [
       "<Figure size 640x480 with 1 Axes>"
      ]
     },
     "metadata": {},
     "output_type": "display_data"
    }
   ],
   "source": [
    "# Make sure we have enough pictures for each distinct label \n",
    "unique_labels, counts = np.unique(y_train_one, return_counts=True)\n",
    "\n",
    "# Sorting the counts and labels in ascending order\n",
    "sorted_indices = np.argsort(counts)[::-1]\n",
    "unique_labels = unique_labels[sorted_indices]\n",
    "counts = counts[sorted_indices]\n",
    "\n",
    "# Plotting the bar chart\n",
    "plt.bar(unique_labels, counts)\n",
    "\n",
    "# Increasing the spacing between the ticks\n",
    "plt.xticks(ticks=np.arange(len(unique_labels)), labels=unique_labels, rotation=45, ha='right')\n",
    "\n",
    "# Prevent clipping of tick labels\n",
    "plt.tight_layout()\n",
    "\n",
    "plt.show()"
   ]
  },
  {
   "cell_type": "markdown",
   "id": "53b6a7b4-997f-4c3e-b711-f6e7672fdcb6",
   "metadata": {
    "jp-MarkdownHeadingCollapsed": true
   },
   "source": [
    "# Feature selection / vectorising the data"
   ]
  },
  {
   "cell_type": "markdown",
   "id": "b00a344f-4379-4e9f-abea-3f2240569285",
   "metadata": {},
   "source": [
    "Feature extraction methods used in this project: \n",
    "\n",
    "1. Histogram of Oriented Gradients (HOG)  \\\n",
    " https://en.wikipedia.org/wiki/Histogram_of_oriented_gradients\n",
    "2. Visual Bag-of-Words (VBOW) \\\n",
    "https://en.wikipedia.org/wiki/Bag-of-words_model_in_computer_vision\n",
    "3. MPEG-7 Color Layout Descriptor \\\n",
    " https://en.wikipedia.org/wiki/Color_layout_descriptor\n"
   ]
  },
  {
   "cell_type": "markdown",
   "id": "a8dd411d-4fde-47d4-8b80-03f7f7805556",
   "metadata": {},
   "source": [
    "This is very important, one of the tasks being \"Extract meaningful hand-crafted features \\[...] using appropriate libraries or implement them from scratch. Reference to some hand-crafted features are provided. Identify and extract at least one extra feature of your choice other than the three features mentioned in the task. Why did you select this these feature(s) out of other options?\n",
    "\""
   ]
  },
  {
   "cell_type": "markdown",
   "id": "533679f0-80de-4091-993d-b48b0f4e9e72",
   "metadata": {},
   "source": [
    "## Feature extraction - function definition"
   ]
  },
  {
   "cell_type": "markdown",
   "id": "00f40e3f-65d7-4646-bd36-de7ee2fea17e",
   "metadata": {},
   "source": [
    "### HOG"
   ]
  },
  {
   "cell_type": "markdown",
   "id": "ee107de7-e156-4fad-9c56-8202c8eb185f",
   "metadata": {},
   "source": [
    "Histogram of Oriented Gradients, aka HOG, is the one extra feature extraction method not mentioned in the task assignment. "
   ]
  },
  {
   "cell_type": "code",
   "execution_count": 8,
   "id": "c7a19c48-ca8b-49ab-aada-a23df52735bb",
   "metadata": {},
   "outputs": [
    {
     "data": {
      "image/png": "[encoded data removed]",
      "text/plain": [
       "<Figure size 576x288 with 2 Axes>"
      ]
     },
     "metadata": {
      "needs_background": "light"
     },
     "output_type": "display_data"
    }
   ],
   "source": [
    "# The following dummy code is for visualisation purposes only for an easy understanding of what HOG performs \n",
    "\n",
    "# Load a sample image\n",
    "image = cv.imread(\"./Data_train/JPEGImages/000005.jpg\")\n",
    "\n",
    "fd, hog_image = hog(\n",
    "    image,\n",
    "    orientations=8,\n",
    "    pixels_per_cell=(12, 12),\n",
    "    cells_per_block=(1, 1),\n",
    "    visualize=True,\n",
    "    channel_axis=-1,\n",
    ")\n",
    "\n",
    "fig, (ax1, ax2) = plt.subplots(1, 2, figsize=(8, 4), sharex=True, sharey=True)\n",
    "\n",
    "ax1.axis('off')\n",
    "ax1.imshow(image, cmap=plt.cm.gray)\n",
    "ax1.set_title('Input image')\n",
    "\n",
    "# Rescale histogram for better display\n",
    "hog_image_rescaled = exposure.rescale_intensity(hog_image, in_range=(0, 10))\n",
    "\n",
    "ax2.axis('off')\n",
    "ax2.imshow(hog_image_rescaled, cmap=plt.cm.gray)\n",
    "ax2.set_title('Histogram of Oriented Gradients')\n",
    "plt.show()"
   ]
  },
  {
   "cell_type": "code",
   "execution_count": 4,
   "id": "c6d7e7d2-558c-4f0e-859a-7dd3dd6a591a",
   "metadata": {},
   "outputs": [],
   "source": [
    "def HOG_extractor(data: list, block_norm: str = 'L2') -> np.ndarray:\n",
    "\n",
    "    \"\"\"\n",
    "    A wrapper for extracting features using the Histogram of Oriented Gradients method.\n",
    "    All images are resised to the same dimensions and blurred with a Gaussian filter. \n",
    "    Optionally specify different normalisation, the default is L2. \n",
    "    \"\"\"\n",
    "\n",
    "    # Initialise an empty list of features\n",
    "    hog_features = []\n",
    "\n",
    "    # Iterate over the images \n",
    "    for img in data:\n",
    "\n",
    "        # Resize the images\n",
    "        image = cv.resize(img, (150, 200), interpolation = cv.INTER_LINEAR)\n",
    "\n",
    "        # Apply Gaussian filter\n",
    "        blur = cv.GaussianBlur(image, (5, 5), 0)\n",
    "\n",
    "        # Extract the features using HOG\n",
    "        fd = hog(\n",
    "        image,\n",
    "        orientations=8,\n",
    "        pixels_per_cell=(12, 12),\n",
    "        cells_per_block=(1, 1),\n",
    "        channel_axis=-1, # Specify the colour channel as the last column\n",
    "        block_norm = block_norm) \n",
    "\n",
    "        hog_features.append(fd)\n",
    "        \n",
    "    return np.array(hog_features)"
   ]
  },
  {
   "cell_type": "markdown",
   "id": "6e648feb",
   "metadata": {},
   "source": [
    "### Visual Bag of Words"
   ]
  },
  {
   "cell_type": "markdown",
   "id": "3f7cecf3",
   "metadata": {},
   "source": [
    "BoVW is a method used for building image emeddings.\n",
    "\n",
    "1. Extract visual features -> SIFT\n",
    "    - consist of keypoints: points that do not change if image is rotated, expanded or scaled\n",
    "    - And descriptors: vector representations of an image patch found at a given keypoint\n",
    "2. Create codebook with all existing visual words -> k-means\n",
    "3. Build sparse frequency vectors with these visual words"
   ]
  },
  {
   "cell_type": "code",
   "execution_count": 7,
   "id": "d9876988",
   "metadata": {},
   "outputs": [],
   "source": [
    "# hyperparam iterations = 1?\n",
    "# param data: list of images on which to apply bovw\n",
    "# param n_words: how large should the codebook be?\n",
    "# param n_samples: how many samples to build the codebook?\n",
    "def bovw(data, n_words, n_samples, iterations=1):\n",
    "    # extractor SIFT to get the visual features\n",
    "    extractor = cv.SIFT_create()\n",
    "\n",
    "    # lists to store all keypoints and descriptors\n",
    "    keypoints = []\n",
    "    descriptors = []\n",
    "\n",
    "    for img in data:\n",
    "        img_keypoints, img_descriptors = extractor.detectAndCompute(img, None)\n",
    "        keypoints.append(img_keypoints)\n",
    "        descriptors.append(img_descriptors)\n",
    "\n",
    "    print(\"keypoints and descriptors extracted\")\n",
    "\n",
    "    # get sample of descriptors\n",
    "    # select n_samples random image index values\n",
    "    sample_idx = np.random.randint(0, len(data), n_samples).tolist()\n",
    "\n",
    "    # extract the sample from descriptors\n",
    "    # (we don't need keypoints)\n",
    "    descriptors_sample = []\n",
    "\n",
    "    for n in sample_idx:\n",
    "        descriptors_sample.append(np.array(descriptors[n]))\n",
    "\n",
    "    all_descriptors = []\n",
    "    # convert all discriptors into a single array (some images may have more than others)\n",
    "    for img_descriptors in descriptors_sample:\n",
    "        # extract specific descriptors within the image\n",
    "        for descriptor in img_descriptors:\n",
    "            all_descriptors.append(descriptor)\n",
    "    \n",
    "    # convert to single numpy array (contains all feature vectors)\n",
    "    all_descriptors = np.stack(all_descriptors)\n",
    "\n",
    "    print(\"All feature vectors gathered. Now: building codebook\")\n",
    "\n",
    "    # perform k-means clustering to build the codebook\n",
    "    k = n_words\n",
    "    codebook, variance = kmeans(all_descriptors, k_or_guess=n_words, iter=iterations)\n",
    "\n",
    "    print(\"codebook finished\")\n",
    "\n",
    "    # vector quantization\n",
    "    visual_words = []\n",
    "    for img_descriptors in descriptors:\n",
    "        # for each image map each descriptor to the nearest codebook entry\n",
    "        img_visual_words, distance = vq(img_descriptors, codebook)\n",
    "        visual_words.append(img_visual_words)\n",
    "\n",
    "    print(\"vectors quantization done, now: creating sparse frequency vectors\")\n",
    "    # creating sparse frequency_vectors \n",
    "    frequency_vectors = []\n",
    "    for img_visual_words in visual_words:\n",
    "        # create frequency vector for each image\n",
    "        img_frequency_vector = np.zeros(k)\n",
    "        for word in img_visual_words:\n",
    "            img_frequency_vector[word] += 1\n",
    "        frequency_vectors.append(img_frequency_vector)       \n",
    "    # stack together in numpy array\n",
    "    frequency_vectors = np.stack(frequency_vectors)\n",
    "\n",
    "    print(\"finished bovw\")\n",
    "\n",
    "    # Tf-idf\n",
    "    #N = len(data)\n",
    "    #df = np.sum(frequency_vectors > 0, axis=0)\n",
    "    #idf = np.log(N/df)\n",
    "\n",
    "    #tfidf = frequency_vectors *idf\n",
    "\n",
    "    return frequency_vectors\n",
    "\n"
   ]
  },
  {
   "cell_type": "markdown",
   "id": "872d2430",
   "metadata": {},
   "source": [
    "### MPEG-7"
   ]
  },
  {
   "cell_type": "markdown",
   "id": "f3f65e0e",
   "metadata": {},
   "source": [
    "MPEG-7 is a multimedia content description standard.The following descriptor methods can be used. \n",
    "- Color Layout Descriptor (CLD): Captures the spatial distribution of colors in an image. It divides the image into a grid and computes color moments for each grid cell.The feature extraction process consists of two parts: grid based representative color selection and discrete cosine transform with quantization.[It is a reference feature in the task document.]\n",
    "\n",
    "- Dominant Color Descriptor (DCD): Captures the dominant colors in an image. It quantizes the color space and computes the frequency of each color cluster.\n",
    "\n",
    "- Color Structure Descriptor (CSD): Describes the spatial arrangement of color structures in an image. It analyzes the distribution of color pairs in predefined directions."
   ]
  },
  {
   "cell_type": "code",
   "execution_count": 11,
   "id": "da784891",
   "metadata": {},
   "outputs": [],
   "source": [
    "\"\"\"\n",
    "The toolkit originally comes from https://github.com/lucas-gtr/MPEG7_Descriptors with \n",
    "adaption for the project. It includes three functions: training, evaluation and querying\n",
    "the descriptors. \n",
    "\"\"\"\n",
    "\n",
    "#def train(train_image_list: list, descriptor_used: Descriptor, output_file: str):\n",
    "def train(train_image_list: list, descriptor_used: Descriptor):\n",
    "    \"\"\"\n",
    "    Uses selected descriptor on a set of images and saves the results to a file.\n",
    "\n",
    "    Args:\n",
    "        train_image_list(list): A list containing training images.\n",
    "        descriptor_used (str): Descriptor to use.\n",
    "        output_file (str): Path to the output file.\n",
    "    \"\"\"\n",
    "    n_images = len(train_image_list)\n",
    "    #print(f\"training {n_images} images\")\n",
    "    descriptor_list = []\n",
    "    \n",
    "    for idx, img in enumerate(train_image_list):\n",
    "        descriptor = descriptor_used.get_descriptor(img)\n",
    "        descriptor_list.append(descriptor)\n",
    "    return descriptor_list"
   ]
  },
  {
   "cell_type": "code",
   "execution_count": 12,
   "id": "b7650efe",
   "metadata": {},
   "outputs": [],
   "source": [
    "\"\"\"\n",
    "1. Three modes to be chosen:\n",
    "Train: train(train_image_list: list, descriptor_used: Descriptor, output_file: str)\n",
    "Evaluate: evaluate(test_image_list: list,y_true: list, descriptor_used: Descriptor, descriptor_database: str)\n",
    "Query: query(query_img_list: list, descriptor_used: Descriptor, descriptor_database: str)\n",
    "\n",
    "2. x_image_list is the list containing image, \n",
    "   output_file and descriptor_database are paths, \n",
    "   descriptor_used can be chosen from: \n",
    "     1) DCD: DominantColorDescriptor(Td, alpha),\n",
    "     2) CLD: ColorLayoutDescriptor(y_coeff_number, c_coeff_number, w_y, w_cr, w_cb),\n",
    "     3) CSD: ColorStructureDescriptor(n_quantization) \n",
    "    Variables are temporaily fixed belows. \n",
    "\"\"\"\n",
    "\n",
    "# Variables for Dominant Color Descriptor\n",
    "Td = 20  # For distance calculation (usually between 10 and 20)\n",
    "alpha = 1.5  # For distance calculation (usually between 1.0 and 1.5)\n",
    "\n",
    "# Variables for Color Layout Descriptor\n",
    "y_coeff_number = 6  # For descriptor size\n",
    "c_coeff_number = 3  # For descriptor size (usually there are more Y coeff number than Cr, Cb)\n",
    "# Weights for distance calculation\n",
    "w_y = 1\n",
    "w_cr = 1\n",
    "w_cb = 1\n",
    "\n",
    "# Variables for Color Structure Descriptor\n",
    "n_quantization = 64  # For descriptor size\n",
    "assert n_quantization in {32, 64, 128, 256}, \"The value of n_quantization must be 32, 64, 128, or 256.\""
   ]
  },
  {
   "cell_type": "markdown",
   "id": "29281ea2-841b-41f9-b530-e451cd151b1a",
   "metadata": {},
   "source": [
    "## Feature extraction - execution"
   ]
  },
  {
   "cell_type": "code",
   "execution_count": null,
   "id": "e6a6683f-4df9-4f57-b784-64edd7604fcc",
   "metadata": {},
   "outputs": [],
   "source": [
    "# The actual execution part\n",
    "\n",
    "# For training\n",
    "train_image_list = x_train[:500]  \n",
    "descriptor_used = ColorLayoutDescriptor(y_coeff_number, c_coeff_number, w_y, w_cr, w_cb)  #change here if changing descriptors of MPEG \n",
    "CLD_descriptor = train(train_image_list, descriptor_used)\n",
    "CLD_descriptor_array = np.array(CLD_descriptor)\n",
    "#CLD_descriptor_array = np.array([list(map(int, s.split())) for s in CLD_descriptor_str])\n",
    "print(CLD_descriptor_array[:10])"
   ]
  },
  {
   "cell_type": "code",
   "execution_count": 43,
   "id": "e6a27a33",
   "metadata": {},
   "outputs": [
    {
     "name": "stderr",
     "output_type": "stream",
     "text": [
      "/Users/revanhome/opt/anaconda3/lib/python3.9/site-packages/sklearn/preprocessing/_label.py:114: DataConversionWarning: A column-vector y was passed when a 1d array was expected. Please change the shape of y to (n_samples, ), for example using ravel().\n",
      "  y = column_or_1d(y, warn=True)\n"
     ]
    }
   ],
   "source": [
    "# for the cluster acc we need int labels instead of string -> label encoding\n",
    "\n",
    "# create an instance of label encoder\n",
    "lab = LabelEncoder()\n",
    "\n",
    "# perform label encoding \n",
    "y_train_one_int = lab.fit_transform(y_train_one)"
   ]
  },
  {
   "cell_type": "code",
   "execution_count": 8,
   "id": "75e8f5c7",
   "metadata": {},
   "outputs": [
    {
     "name": "stdout",
     "output_type": "stream",
     "text": [
      "keypoints and descriptors extracted\n",
      "All feature vectors gathered. Now: building codebook\n",
      "codebook finished\n",
      "vectors quantization done, now: creating sparse frequency vectors\n",
      "finished bovw\n"
     ]
    }
   ],
   "source": [
    "tfidf = bovw(x_train[:50], 50, 250)"
   ]
  },
  {
   "cell_type": "code",
   "execution_count": 42,
   "id": "75d7da2b",
   "metadata": {},
   "outputs": [
    {
     "name": "stdout",
     "output_type": "stream",
     "text": [
      "500\n",
      "50\n"
     ]
    }
   ],
   "source": [
    "print(len(tfidf))\n",
    "print(len(tfidf[0]))"
   ]
  },
  {
   "cell_type": "code",
   "execution_count": 43,
   "id": "6478ecca-faee-4198-a6b2-490ad2066132",
   "metadata": {},
   "outputs": [
    {
     "data": {
      "text/plain": [
       "array([[20., 19., 18., ..., 24., 23., 27.],\n",
       "       [ 7.,  7.,  2., ...,  2.,  4.,  9.],\n",
       "       [12., 22.,  5., ..., 18., 16., 36.],\n",
       "       ...,\n",
       "       [18., 23., 13., ..., 17., 25., 23.],\n",
       "       [21., 21., 12., ..., 11., 24., 19.],\n",
       "       [17., 13.,  5., ..., 13.,  6.,  8.]])"
      ]
     },
     "execution_count": 43,
     "metadata": {},
     "output_type": "execute_result"
    }
   ],
   "source": [
    "tfidf"
   ]
  },
  {
   "cell_type": "code",
   "execution_count": 13,
   "id": "2396888c-ad73-47fd-b5cf-13985a17dd5b",
   "metadata": {},
   "outputs": [
    {
     "data": {
      "text/plain": [
       "array([[0.6135993 , 0.17420042, 0.13812273, ..., 0.23033451, 0.34033488,\n",
       "        0.13920484],\n",
       "       [0.6272774 , 0.23477052, 0.32669817, ..., 0.23027076, 0.44495737,\n",
       "        0.26417126],\n",
       "       [0.79973473, 0.13762262, 0.21711812, ..., 0.33508714, 0.41571747,\n",
       "        0.27764662],\n",
       "       ...,\n",
       "       [0.66881225, 0.22846632, 0.35195778, ..., 0.44722539, 0.46133285,\n",
       "        0.14119727],\n",
       "       [0.47292794, 0.16192481, 0.19144276, ..., 0.4507705 , 0.22021719,\n",
       "        0.25232076],\n",
       "       [0.47535646, 0.26153079, 0.51199914, ..., 0.31009018, 0.39616514,\n",
       "        0.41840699]])"
      ]
     },
     "execution_count": 13,
     "metadata": {},
     "output_type": "execute_result"
    }
   ],
   "source": [
    "hogfd = HOG_extractor(x_train[:500])\n",
    "hogfd"
   ]
  },
  {
   "cell_type": "code",
   "execution_count": 27,
   "id": "ecd28b84",
   "metadata": {
    "scrolled": true
   },
   "outputs": [
    {
     "name": "stdout",
     "output_type": "stream",
     "text": [
      "training 500 images\n"
     ]
    },
    {
     "data": {
      "text/plain": [
       "array([[1117,  -86, -216,   64,  -42,  -86, 1133,   -5,  -12,  899,    4,\n",
       "          15],\n",
       "       [ 767, -142,  221,  332,   73,  -67,  967,    5,    3, 1098,   -1,\n",
       "          -1],\n",
       "       [1080,   -8,  -65,   98,   80,  -37,  938,   -2,   44, 1186,    1,\n",
       "         -25],\n",
       "       [ 983, -102, -153, -111,  -11,  155, 1016,    9,  -39, 1041,    7,\n",
       "          39],\n",
       "       [ 777,  135,  292,  -33,   91, -187, 1007,   -9,    9, 1030,    6,\n",
       "          -6],\n",
       "       [ 884,  115, -199,   58,  -27,   81,  940,  -21,  -30, 1122,   19,\n",
       "          36],\n",
       "       [ 867,  -96,   94, -219,   43,  319,  943,   11,  -16, 1061,   -5,\n",
       "           7],\n",
       "       [ 890,   84,  114,   71,  122,  -34, 1007,    8,  -15, 1040,   -7,\n",
       "          14],\n",
       "       [1022,   75,   20, -129,  -43,    0, 1205,   22,  113,  843,  -26,\n",
       "         -96],\n",
       "       [1204,  -61,  -14,  321,  -31,  -72,  993,   -9,   -5, 1053,   10,\n",
       "           6]])"
      ]
     },
     "execution_count": 27,
     "metadata": {},
     "output_type": "execute_result"
    }
   ],
   "source": [
    "# MPEG ColorLayoutDescriptor\n",
    "train_image_list = x_train[:500]  \n",
    "descriptor_used = ColorLayoutDescriptor(y_coeff_number, c_coeff_number, w_y, w_cr, w_cb)  #change here if changing descriptors of MPEG \n",
    "CLD_descriptor  = train(train_image_list, descriptor_used)\n",
    "CLD_descriptor_array = np.array(CLD_descriptor)\n",
    "CLD_descriptor_array[:10]\n",
    "#print(CLD_descriptor_array[0][1])"
   ]
  },
  {
   "cell_type": "code",
   "execution_count": 28,
   "id": "c6c37e6c",
   "metadata": {},
   "outputs": [
    {
     "name": "stdout",
     "output_type": "stream",
     "text": [
      "(500, 12)\n"
     ]
    }
   ],
   "source": [
    "print(CLD_descriptor_array.shape)"
   ]
  },
  {
   "cell_type": "code",
   "execution_count": 29,
   "id": "b8eb3cb8",
   "metadata": {},
   "outputs": [
    {
     "name": "stdout",
     "output_type": "stream",
     "text": [
      "training 500 images\n",
      "[[ 30  28  36  42   0   0   0   0 110 130   0   0  26  29   0   0  45  52\n",
      "    0   0   0   0   0   0  40 213   0   0  21  17   0   0   2   3   0   0\n",
      "    0   0   0   0  56   0   0   0   0   0   2   0   0   0   0   0   0   0\n",
      "    0   0   0   0   0   0   0   0   0   0]\n",
      " [173  77  71 120   0   0   0   0  38  22   0   0 231  85   0   0  12  20\n",
      "    0   0   0   0   0   0   0   1   0   0 242 178   0   0   2   6   0   0\n",
      "    0   0   0   0   0   0   0   0  13   0 207   0   0   0   0   0   0   0\n",
      "    0   0   0   0   0  38   0   0   0   0]]\n",
      "(500, 64)\n"
     ]
    }
   ],
   "source": [
    "# MPEG ColorStructureDescriptor, more sparse\n",
    "train_image_list = x_train[:500]  \n",
    "descriptor_used = ColorStructureDescriptor(n_quantization)\n",
    "CSD_descriptor = train(train_image_list, descriptor_used)\n",
    "CSD_descriptor_array = np.array(CSD_descriptor)\n",
    "\n",
    "print(CSD_descriptor_array[:2])\n",
    "print(CSD_descriptor_array.shape)"
   ]
  },
  {
   "cell_type": "markdown",
   "id": "aea1f93a-86ff-489d-893a-86b3d8989dd1",
   "metadata": {},
   "source": [
    "# Algorithm selection"
   ]
  },
  {
   "cell_type": "markdown",
   "id": "2870cb88-8775-4fd9-b5a6-7b89935b3405",
   "metadata": {},
   "source": [
    "I'm guessing we could get away with just picking one. I suggest constrained clustering, COP-k-Means. We could even experiment with running two separate algs and compare, like got with PCK-Means and compare the performance to COP-k-Means, they're quite similar\n",
    "\n",
    "Here is the link to the lecture slides about these algorithms.\\\n",
    "https://elearning.ovgu.de/pluginfile.php/937020/mod_resource/content/2/english_ATiML05_ConstrainedClustering.pdf\n",
    "\n",
    "Constrained clustering incorporates domain knowledge into the clustering process. In our case, domain knowledge would be super wide, essentially which features should be present for which object class. Domain knowledge that we can introduce includes \n",
    "1. Number of clusters (it's 20, Pascal tells us) \n",
    "2. Minimum cluster variance (not sure)\n",
    "3. Min / Max cluster size\n",
    "4. Must-link constraints\n",
    "5. Cannot-link constraints\n",
    "\n",
    "COP-k-Means is a modified k-means clustering algorithm that allows for constraints. It modifies step 1 of the k-means process (initialising cluster centres) by disallowing assignment to a cluster if the must constraint is already satisfied with another cluster or if the cannot-link constraint applies. \n",
    "\n",
    "The paper that describes the algorithm is here:\n",
    "https://web.cse.msu.edu/~cse802/notes/ConstrainedKmeans.pdf \\\n",
    "It's also where the slides got their low quality screenshot of algorithm steps from"
   ]
  },
  {
   "cell_type": "code",
   "execution_count": 14,
   "id": "813351d6",
   "metadata": {},
   "outputs": [
    {
     "data": {
      "text/plain": [
       "[0, 3, 3, 4, 3, 3, 1, 1, 1, 0]"
      ]
     },
     "execution_count": 14,
     "metadata": {},
     "output_type": "execute_result"
    }
   ],
   "source": [
    "# A try run of cop_kmeans\n",
    "from COPkMeans.copkmeans.cop_kmeans import cop_kmeans \n",
    "input_matrix = np.random.rand(100, 1)\n",
    "must_link = [(0, 10), (0, 20), (0, 30)]\n",
    "cannot_link = [(1, 10), (2, 10), (3, 10)]\n",
    "clusters, centres = cop_kmeans(dataset=input_matrix, k=5, ml=must_link,cl=cannot_link)\n",
    "clusters[:10]"
   ]
  },
  {
   "cell_type": "code",
   "execution_count": 15,
   "id": "1aa2942d",
   "metadata": {},
   "outputs": [
    {
     "ename": "TypeError",
     "evalue": "unsupported operand type(s) for +=: 'float' and 'str'",
     "output_type": "error",
     "traceback": [
      "\u001b[1;31m---------------------------------------------------------------------------\u001b[0m",
      "\u001b[1;31mTypeError\u001b[0m                                 Traceback (most recent call last)",
      "Cell \u001b[1;32mIn[15], line 9\u001b[0m\n\u001b[0;32m      6\u001b[0m CLD_descriptor \u001b[38;5;241m=\u001b[39m train(train_image_list, descriptor_used)\n\u001b[0;32m      7\u001b[0m CLD_descriptor_array \u001b[38;5;241m=\u001b[39m np\u001b[38;5;241m.\u001b[39marray(CLD_descriptor)\n\u001b[1;32m----> 9\u001b[0m clusters_CLD, centres_CLD \u001b[38;5;241m=\u001b[39m \u001b[43mcop_kmeans\u001b[49m\u001b[43m(\u001b[49m\u001b[43mdataset\u001b[49m\u001b[38;5;241;43m=\u001b[39;49m\u001b[43mCLD_descriptor_array\u001b[49m\u001b[43m,\u001b[49m\u001b[43m \u001b[49m\u001b[43mk\u001b[49m\u001b[38;5;241;43m=\u001b[39;49m\u001b[38;5;241;43m20\u001b[39;49m\u001b[43m)\u001b[49m\n\u001b[0;32m     10\u001b[0m \u001b[38;5;28mprint\u001b[39m(\u001b[38;5;124m\"\u001b[39m\u001b[38;5;124m----------------------Clustering with CLD descriptor done------------\u001b[39m\u001b[38;5;124m\"\u001b[39m)\n\u001b[0;32m     11\u001b[0m \u001b[38;5;28mprint\u001b[39m(y_train_cleaned[:\u001b[38;5;241m20\u001b[39m])\n",
      "File \u001b[1;32mc:\\Users\\evist\\Documents\\Master\\3. Semester\\ATiML\\Project\\ATiML-Project\\COPkMeans\\copkmeans\\cop_kmeans.py:9\u001b[0m, in \u001b[0;36mcop_kmeans\u001b[1;34m(dataset, k, ml, cl, initialization, max_iter, tol)\u001b[0m\n\u001b[0;32m      4\u001b[0m \u001b[38;5;28;01mdef\u001b[39;00m \u001b[38;5;21mcop_kmeans\u001b[39m(dataset, k, ml\u001b[38;5;241m=\u001b[39m[], cl\u001b[38;5;241m=\u001b[39m[],\n\u001b[0;32m      5\u001b[0m                initialization\u001b[38;5;241m=\u001b[39m\u001b[38;5;124m'\u001b[39m\u001b[38;5;124mkmpp\u001b[39m\u001b[38;5;124m'\u001b[39m,\n\u001b[0;32m      6\u001b[0m                max_iter\u001b[38;5;241m=\u001b[39m\u001b[38;5;241m300\u001b[39m, tol\u001b[38;5;241m=\u001b[39m\u001b[38;5;241m1e-4\u001b[39m):\n\u001b[0;32m      8\u001b[0m     ml, cl \u001b[38;5;241m=\u001b[39m transitive_closure(ml, cl, \u001b[38;5;28mlen\u001b[39m(dataset))\n\u001b[1;32m----> 9\u001b[0m     ml_info \u001b[38;5;241m=\u001b[39m \u001b[43mget_ml_info\u001b[49m\u001b[43m(\u001b[49m\u001b[43mml\u001b[49m\u001b[43m,\u001b[49m\u001b[43m \u001b[49m\u001b[43mdataset\u001b[49m\u001b[43m)\u001b[49m\n\u001b[0;32m     10\u001b[0m     tol \u001b[38;5;241m=\u001b[39m tolerance(tol, dataset)\n\u001b[0;32m     12\u001b[0m     centers \u001b[38;5;241m=\u001b[39m initialize_centers(dataset, k, initialization)\n",
      "File \u001b[1;32mc:\\Users\\evist\\Documents\\Master\\3. Semester\\ATiML\\Project\\ATiML-Project\\COPkMeans\\copkmeans\\cop_kmeans.py:149\u001b[0m, in \u001b[0;36mget_ml_info\u001b[1;34m(ml, dataset)\u001b[0m\n\u001b[0;32m    147\u001b[0m     \u001b[38;5;28;01mfor\u001b[39;00m d \u001b[38;5;129;01min\u001b[39;00m \u001b[38;5;28mrange\u001b[39m(dim):\n\u001b[0;32m    148\u001b[0m         \u001b[38;5;28;01mfor\u001b[39;00m i \u001b[38;5;129;01min\u001b[39;00m group:\n\u001b[1;32m--> 149\u001b[0m             centroids[j][d] \u001b[38;5;241m+\u001b[39m\u001b[38;5;241m=\u001b[39m dataset[i][d]\n\u001b[0;32m    150\u001b[0m         centroids[j][d] \u001b[38;5;241m/\u001b[39m\u001b[38;5;241m=\u001b[39m \u001b[38;5;28mfloat\u001b[39m(\u001b[38;5;28mlen\u001b[39m(group))\n\u001b[0;32m    152\u001b[0m scores \u001b[38;5;241m=\u001b[39m [\u001b[38;5;28msum\u001b[39m(l2_distance(centroids[j], dataset[i])\n\u001b[0;32m    153\u001b[0m               \u001b[38;5;28;01mfor\u001b[39;00m i \u001b[38;5;129;01min\u001b[39;00m groups[j])\n\u001b[0;32m    154\u001b[0m           \u001b[38;5;28;01mfor\u001b[39;00m j \u001b[38;5;129;01min\u001b[39;00m \u001b[38;5;28mrange\u001b[39m(\u001b[38;5;28mlen\u001b[39m(groups))]\n",
      "\u001b[1;31mTypeError\u001b[0m: unsupported operand type(s) for +=: 'float' and 'str'"
     ]
    }
   ],
   "source": [
    "# Try to use cop kmeans on training set without constraints\n",
    "\n",
    "# CLD \n",
    "train_image_list = x_train\n",
    "descriptor_used = ColorLayoutDescriptor(y_coeff_number, c_coeff_number, w_y, w_cr, w_cb)  #change here if changing descriptors of MPEG \n",
    "CLD_descriptor = train(train_image_list, descriptor_used)\n",
    "CLD_descriptor_array = np.array(CLD_descriptor)\n",
    "\n",
    "clusters_CLD, centres_CLD = cop_kmeans(dataset=CLD_descriptor_array, k=20)\n",
    "print(\"----------------------Clustering with CLD descriptor done------------\")\n",
    "print(y_train_cleaned[:20])\n",
    "print(clusters_CLD[:20])\n",
    "\n",
    "# CSD\n",
    "train_image_list = x_train\n",
    "descriptor_used = ColorStructureDescriptor(n_quantization)   #change here if changing descriptors of MPEG \n",
    "CSD_descriptor = train(train_image_list, descriptor_used)\n",
    "CSD_descriptor_array = np.array(CSD_descriptor)\n",
    "\n",
    "clusters_CSD, centres_CSD = cop_kmeans(dataset=CSD_descriptor_array, k=20)\n",
    "print(\"----------------------Clustering with CSD descriptor done------------\")\n",
    "print(clusters_CSD[:20])\n",
    "\n",
    "# Visual Bag of Words\n",
    "tfidf = bovw(x_train, 50, 250)\n",
    "clusters_bovw, centres_bovw = cop_kmeans(dataset=tfidf, k=20)\n",
    "print(\"----------------------Clustering with Visual Bag of Words done-----------\")\n",
    "print(clusters_bovw[:20])\n",
    "\n",
    "# HOG\n",
    "hogfd = HOG_extractor(x_train)\n",
    "clusters_hog, centres_hog = cop_kmeans(dataset=hogfd, k=20)\n",
    "print(\"--------------------Clustering with HOG extractor done-------------\")\n",
    "print(clusters_hog[:20])"
   ]
  },
  {
   "cell_type": "markdown",
   "id": "febb316e",
   "metadata": {},
   "source": [
    "# Evaluation of the quality of clusters"
   ]
  },
  {
   "cell_type": "markdown",
   "id": "79f43c88",
   "metadata": {},
   "source": [
    "## A. Instrinsic measures-when the ground truth is not available\n",
    "- 1. Davies-Bouldin Index. It assesses the average similarity ratio of each cluster with its most similar cluster and evaluates the compactness and separation of clusters. The lower the better.  \n",
    "- 2. Silhouette Coefficient. It estimates the average distance between clusters and measures how similar an object is to its own cluster compared to other clusters. The higher the better. \n",
    "- 3. Calinski-Harabasz Index. It evaluates cluster validity based on the ratio of the sum of between-cluster dispersion and within-cluster dispersion. The higher the better. "
   ]
  },
  {
   "cell_type": "code",
   "execution_count": null,
   "id": "dc4e773d",
   "metadata": {},
   "outputs": [],
   "source": [
    "# 1. Davies-Bouldin Index\n",
    "from sklearn.metrics import davies_bouldin_score\n",
    "db_CLD = davies_bouldin_score(CLD_descriptor_array,clusters_CLD) \n",
    "print(\"Davies-Bouldin Index of CLD is:\", db_CLD)\n",
    "\n",
    "db_CSD = davies_bouldin_score(CSD_descriptor_array,clusters_CSD) \n",
    "print(\"Davies-Bouldin Index of CSD is:\", db_CSD)\n",
    "\n",
    "db_bovw = davies_bouldin_score(tfidf,clusters_bovw)\n",
    "print(\"Davies-Bouldin Index of bovw is:\", db_bovw)\n",
    "\n",
    "db_hog = davies_bouldin_score(hogfd,clusters_hog) \n",
    "print(\"Davies-Bouldin Index of hog is:\", db_hog)\n",
    "\n",
    "# 2. Silhouette Coefficient\n",
    "from sklearn.metrics import silhouette_score\n",
    "sil_CLD = silhouette_score(CLD_descriptor_array,clusters_CLD) \n",
    "print(\"Silhouette Coefficient of CLD is:\", sil_CLD)\n",
    "\n",
    "sil_CSD = silhouette_score(CSD_descriptor_array,clusters_CSD) \n",
    "print(\"Silhouette Coefficient of CSD is:\", sil_CSD)\n",
    "\n",
    "sil_bovw = silhouette_score(tfidf,clusters_bovw)\n",
    "print(\"Silhouette Coefficient of bovw is:\", sil_bovw)\n",
    "\n",
    "sil_hog = silhouette_score(hogfd,clusters_hog)\n",
    "print(\"Silhouette Coefficient of hog is:\", sil_hog)\n",
    "\n",
    "#  3. Calinski-Harabasz Index\n",
    "from sklearn.metrics import calinski_harabasz_score\n",
    "ch_CLD = calinski_harabasz_score(CLD_descriptor_array,clusters_CLD) \n",
    "print(\"Calinski-Harabasz Index of CLD is:\", ch_CLD)\n",
    "\n",
    "ch_CSD = calinski_harabasz_score(CSD_descriptor_array,clusters_CSD) \n",
    "print(\"Calinski-Harabasz Index of CSD is:\", ch_CSD)\n",
    "\n",
    "ch_bovw = calinski_harabasz_score(tfidf,clusters_bovw)\n",
    "print(\"Calinski-Harabasz Index of bovw is:\", ch_bovw)\n",
    "\n",
    "ch_hog = calinski_harabasz_score(hogfd,clusters_hog)\n",
    "print(\"Calinski-Harabasz Index of hog is:\", ch_hog)"
   ]
  },
  {
   "cell_type": "markdown",
   "id": "19174657",
   "metadata": {},
   "source": [
    "## B. Extrinsic measures"
   ]
  },
  {
   "cell_type": "code",
   "execution_count": null,
   "id": "09516c76",
   "metadata": {},
   "outputs": [],
   "source": []
  },
  {
   "cell_type": "markdown",
   "id": "4296870a-53ea-4ba4-9a59-4b630fdec05f",
   "metadata": {},
   "source": [
    "# Model selection"
   ]
  },
  {
   "cell_type": "markdown",
   "id": "25d69244-7647-4e38-a8c9-eab9015a099d",
   "metadata": {},
   "source": [
    "CV and the like, gotta plot that error as a function of lambda / M for Sayantan for sure"
   ]
  },
  {
   "cell_type": "code",
   "execution_count": 16,
   "id": "60ee3749-475b-4a2a-885a-739affe828dd",
   "metadata": {},
   "outputs": [],
   "source": [
    "must_link = [(0, 10), (0, 20), (0, 30)]\n",
    "cannot_link = [(1, 10), (2, 10), (3, 10)]\n",
    "# clusters, centres = cop_kmeans(dataset=input_matrix, k=5, ml=must_link,cl=cannot_link)\n",
    "clusters, centres = cop_kmeans(dataset=tfidf, k=20)"
   ]
  },
  {
   "cell_type": "code",
   "execution_count": 87,
   "id": "f195e9a4",
   "metadata": {},
   "outputs": [],
   "source": [
    "# taken from https://github.com/k-han/DTC/blob/master/utils/util.py and modified, because it only worked for two classes\n",
    "def cluster_acc(y_true, y_pred):\n",
    "    \"\"\"\n",
    "    Calculate clustering accuracy. Require scikit-learn installed\n",
    "\n",
    "    # Arguments\n",
    "        y: true labels, numpy.array with shape `(n_samples,)`\n",
    "        y_pred: predicted labels, numpy.array with shape `(n_samples,)`\n",
    "\n",
    "    # Return\n",
    "        accuracy, in [0,1]\n",
    "    \"\"\"\n",
    "    y_true = y_true.astype(np.int64)\n",
    "    assert y_pred.size == y_true.size\n",
    "    D = max(y_pred.max(), y_true.max()) + 1\n",
    "    w = np.zeros((D, D), dtype=np.int64)\n",
    "    for i in range(y_pred.size):\n",
    "        w[y_pred[i], y_true[i]] += 1\n",
    "    cost_matrix = w.max()-w\n",
    "    row_ind, col_ind = linear_sum_assignment(cost_matrix)\n",
    "    #print(f\"row_ind: {row_ind}\")\n",
    "    #print(f\"col_ind: {col_ind}\")\n",
    "    #print(cost_matrix)\n",
    "    sum = 0 \n",
    "    for i in range(row_ind.size):\n",
    "        sum += w[row_ind[i], col_ind[i]]\n",
    "\n",
    "\n",
    "    return sum / y_pred.size\n",
    "    \n"
   ]
  },
  {
   "cell_type": "code",
   "execution_count": 88,
   "id": "59d29320",
   "metadata": {},
   "outputs": [
    {
     "name": "stdout",
     "output_type": "stream",
     "text": [
      "0.34\n"
     ]
    }
   ],
   "source": [
    "# get the cluster acc for our example clustering example with tfidf\n",
    "acc = cluster_acc(y_train_one_int[:50], np.array(clusters))\n",
    "print(acc)"
   ]
  },
  {
   "cell_type": "markdown",
   "id": "2bf5b01c-eaf2-4c9b-ad7b-fd1805a1d5fe",
   "metadata": {},
   "source": [
    "# Generalisation error / testing"
   ]
  },
  {
   "cell_type": "markdown",
   "id": "f7c3e711-b637-4a76-bbbe-10885d57831d",
   "metadata": {},
   "source": [
    "50 % of the Pascal dataset is set to be for testing"
   ]
  }
 ],
 "metadata": {
  "kernelspec": {
   "display_name": "Python 3 (ipykernel)",
   "language": "python",
   "name": "python3"
  },
  "language_info": {
   "codemirror_mode": {
    "name": "ipython",
    "version": 3
   },
   "file_extension": ".py",
   "mimetype": "text/x-python",
   "name": "python",
   "nbconvert_exporter": "python",
   "pygments_lexer": "ipython3",
   "version": "3.9.12"
  }
 },
 "nbformat": 4,
 "nbformat_minor": 5
}
