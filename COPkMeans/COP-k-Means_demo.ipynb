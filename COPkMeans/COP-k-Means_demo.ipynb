{
 "cells": [
  {
   "cell_type": "code",
   "execution_count": 1,
   "id": "ea6fc7ba-5ddf-40b0-a49b-bbc2e8af3037",
   "metadata": {},
   "outputs": [],
   "source": [
    "import numpy as np\n",
    "from copkmeans.cop_kmeans import cop_kmeans"
   ]
  },
  {
   "cell_type": "code",
   "execution_count": 24,
   "id": "b01255da-aa15-49b4-978f-f18ec679f7d6",
   "metadata": {},
   "outputs": [],
   "source": [
    "input_matrix = np.random.rand(100, 1)\n",
    "must_link = [(0, 10), (0, 20), (0, 30)]\n",
    "cannot_link = [(1, 10), (2, 10), (3, 10)]\n",
    "clusters, centres = cop_kmeans(dataset=input_matrix, k=5, ml=must_link,cl=cannot_link)"
   ]
  },
  {
   "cell_type": "markdown",
   "id": "280e07d0-ce00-4ffd-8571-84b10d3800e8",
   "metadata": {},
   "source": [
    "Clusters is a list of integer which has cluster number according to index of given data."
   ]
  },
  {
   "cell_type": "code",
   "execution_count": 25,
   "id": "6c519b25-5738-4027-abe3-64a4bb4c6359",
   "metadata": {},
   "outputs": [
    {
     "data": {
      "text/plain": [
       "[[0.9396685318452173],\n",
       " [0.15025097726718353],\n",
       " [0.631815095736639],\n",
       " [0.7766366442543936],\n",
       " [0.4882357347945849]]"
      ]
     },
     "execution_count": 25,
     "metadata": {},
     "output_type": "execute_result"
    }
   ],
   "source": [
    "centres"
   ]
  },
  {
   "cell_type": "markdown",
   "id": "be5d678a-ef74-4762-bacf-f9d4a9545407",
   "metadata": {},
   "source": [
    "pip-run -q setuptools==48 -- -c \"import setuptools; exec(open('setup.py').read())\" sdist"
   ]
  }
 ],
 "metadata": {
  "kernelspec": {
   "display_name": "Python 3",
   "language": "python",
   "name": "python3"
  },
  "language_info": {
   "codemirror_mode": {
    "name": "ipython",
    "version": 3
   },
   "file_extension": ".py",
   "mimetype": "text/x-python",
   "name": "python",
   "nbconvert_exporter": "python",
   "pygments_lexer": "ipython3",
   "version": "3.8.8"
  }
 },
 "nbformat": 4,
 "nbformat_minor": 5
}
